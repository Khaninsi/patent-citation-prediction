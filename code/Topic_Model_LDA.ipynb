{
 "cells": [
  {
   "cell_type": "markdown",
   "id": "cc1a05b2",
   "metadata": {},
   "source": [
    "# LDA Topic Modeling for EV Patents  \n",
    "Contributor: Claire Yuen"
   ]
  },
  {
   "cell_type": "code",
   "execution_count": 1,
   "id": "f6fc63fc",
   "metadata": {},
   "outputs": [],
   "source": [
    "import json\n",
    "import numpy as np\n",
    "import pandas as pd\n",
    "from pprint import pprint\n",
    "\n",
    "#spacy for lemmatization\n",
    "import spacy\n",
    "from nltk.corpus import stopwords\n",
    "\n",
    "import gensim\n",
    "import gensim.corpora as corpora\n",
    "from gensim.utils import simple_preprocess\n",
    "from gensim.models import CoherenceModel\n",
    "import matplotlib.pyplot as plt\n",
    "\n",
    "import pyLDAvis\n",
    "import pyLDAvis.gensim_models"
   ]
  },
  {
   "cell_type": "code",
   "execution_count": 2,
   "id": "9219e770",
   "metadata": {},
   "outputs": [
    {
     "data": {
      "application/vnd.jupyter.widget-view+json": {
       "model_id": "bf43c73b1a004916b966ceb179046712",
       "version_major": 2,
       "version_minor": 0
      },
      "text/plain": [
       "  0%|          | 0/800 [00:00<?, ?it/s]"
      ]
     },
     "metadata": {},
     "output_type": "display_data"
    },
    {
     "data": {
      "application/vnd.jupyter.widget-view+json": {
       "model_id": "48919cb025e4440c849bbfe02206c995",
       "version_major": 2,
       "version_minor": 0
      },
      "text/plain": [
       "  0%|          | 0/34200 [00:00<?, ?it/s]"
      ]
     },
     "metadata": {},
     "output_type": "display_data"
    }
   ],
   "source": [
    "# Read the file\n",
    "import json\n",
    "from tqdm.autonotebook import tqdm\n",
    "# Change the directory\n",
    "f = open(\"patent_information_35000.json\")\n",
    "# returns JSON object as a dictionary\n",
    "patent_dict = json.load(f)\n",
    "f.close()\n",
    "\n",
    "# Define queries and documents \n",
    "queries = patent_dict[:800]\n",
    "docs = patent_dict[800:]\n",
    "\n",
    "\n",
    "## Extract information \n",
    "def extract_information_patent(docs):\n",
    "    patent_nums, title, abstract, title_and_abs, body = [], [], [], [], []\n",
    "    citation = {}\n",
    "    patent_index2id = {}\n",
    "    patent_id2index = {}\n",
    "    #doc_index2id = {}\n",
    "    # Obtain all titles, abstracts, citations \n",
    "    for index, patent in enumerate(tqdm(docs)):\n",
    "        patent_num = patent['patent']\n",
    "        patent_nums.append(patent_num)\n",
    "        citation[patent_num] = [num['patent_number'] for num in patent['patent_citations']]\n",
    "        titl = patent['title']\n",
    "        abs = patent['abstract_text']\n",
    "        title.append(titl)\n",
    "        abstract.append(abs)\n",
    "        title_and_abs.append(titl+'[SEP]'+abs)\n",
    "        body.append(patent['body_message'])\n",
    "        \n",
    "        # Create index to id for querys and documents\n",
    "        patent_index2id[index] = patent_num\n",
    "        patent_id2index[patent_num] = index\n",
    "    return patent_nums, title, abstract, title_and_abs, body, citation, patent_index2id, patent_id2index\n",
    "\n",
    "# Run the function\n",
    "patent_q, title_q, abstract_q, title_and_abs_q, body_q, _, _, _ = extract_information_patent(queries)\n",
    "patent, title, abstract, title_and_abs, body, citation, patent_index2id, patent_id2index = extract_information_patent(docs)\n",
    "\n",
    "\n",
    "## Until here "
   ]
  },
  {
   "cell_type": "code",
   "execution_count": 3,
   "id": "cfbfcf0c",
   "metadata": {},
   "outputs": [
    {
     "data": {
      "text/plain": [
       "35000"
      ]
     },
     "execution_count": 3,
     "metadata": {},
     "output_type": "execute_result"
    }
   ],
   "source": [
    "abstract_q.extend(abstract)\n",
    "len(abstract_q)"
   ]
  },
  {
   "cell_type": "code",
   "execution_count": 4,
   "id": "36f24620",
   "metadata": {},
   "outputs": [
    {
     "data": {
      "text/plain": [
       "35000"
      ]
     },
     "execution_count": 4,
     "metadata": {},
     "output_type": "execute_result"
    }
   ],
   "source": [
    "patent_q.extend(patent)\n",
    "len(patent_q)"
   ]
  },
  {
   "cell_type": "code",
   "execution_count": 5,
   "id": "a6eff9cf",
   "metadata": {},
   "outputs": [
    {
     "name": "stdout",
     "output_type": "stream",
     "text": [
      "[['an', 'electric', 'vehicle', 'includes', 'battery', 'charging', 'lid', 'vehicle', 'side', 'charging', 'connector', 'contactor', 'contactor', 'welding', 'detector', 'dc', 'inlet', 'cover', 'dc', 'lock', 'mechanism', 'and', 'lock', 'controller', 'the', 'battery', 'is', 'to', 'be', 'charged', 'with', 'power', 'supplied', 'from', 'an', 'external', 'power', 'supply', 'the', 'vehicle', 'side', 'charging', 'connector', 'is', 'disposed', 'inside', 'position', 'of', 'the', 'charging', 'lid', 'in', 'the', 'electric', 'vehicle', 'and', 'includes', 'an', 'ac', 'inlet', 'for', 'ac', 'charging', 'and', 'dc', 'inlet', 'for', 'dc', 'charging', 'the', 'contactor', 'is', 'provided', 'on', 'power', 'line', 'connecting', 'the', 'dc', 'inlet', 'to', 'the', 'battery', 'the', 'contactor', 'welding', 'detector', 'is', 'configured', 'to', 'detect', 'welding', 'of', 'the', 'contactor', 'the', 'dc', 'inlet', 'cover', 'covers', 'the', 'dc', 'inlet', 'without', 'covering', 'the', 'ac', 'inlet', 'in', 'state', 'where', 'the', 'dc', 'inlet', 'cover', 'is', 'in', 'closed', 'state', 'the', 'dc', 'lock', 'mechanism', 'locks', 'the', 'dc', 'inlet', 'cover', 'in', 'the', 'closed', 'state']]\n"
     ]
    }
   ],
   "source": [
    "def sentence_to_words(sentences):\n",
    "    for sent in sentences:\n",
    "        sent = gensim.utils.simple_preprocess(str(sent), deacc=True) \n",
    "        yield(sent)\n",
    "\n",
    "data_words = list(sentence_to_words(abstract_q))\n",
    "print(data_words[:1])"
   ]
  },
  {
   "cell_type": "code",
   "execution_count": 6,
   "id": "2106884b",
   "metadata": {},
   "outputs": [],
   "source": [
    "from nltk.corpus import stopwords\n",
    "stop_words = stopwords.words('english')"
   ]
  },
  {
   "cell_type": "code",
   "execution_count": 7,
   "id": "793d5286",
   "metadata": {},
   "outputs": [],
   "source": [
    "bigram_phrases = gensim.models.Phrases(data_words, min_count=5, threshold=100)\n",
    "trigram_phrases = gensim.models.Phrases(bigram_phrases[data_words], threshold=100)\n",
    "bigram = gensim.models.phrases.Phraser(bigram_phrases)\n",
    "trigram = gensim.models.phrases.Phraser(trigram_phrases)"
   ]
  },
  {
   "cell_type": "code",
   "execution_count": 8,
   "id": "d55dd185",
   "metadata": {},
   "outputs": [],
   "source": [
    "# Define functions for stopwords, bigrams, trigrams and lemmatization\n",
    "def remove_stopwords(texts):\n",
    "    return [[word for word in simple_preprocess(str(doc)) if word not in stop_words] for doc in texts]\n",
    "\n",
    "def bigrams(texts):\n",
    "    return [bigram[doc] for doc in texts]\n",
    "\n",
    "def lemmatization(texts, allowed_postags=['NOUN', 'ADJ', 'VERB', 'ADV']):\n",
    "    texts_out = []\n",
    "    for sent in texts:\n",
    "        doc = nlp(\" \".join(sent)) \n",
    "        texts_out.append([token.lemma_ for token in doc if token.pos_ in allowed_postags])\n",
    "    return texts_out"
   ]
  },
  {
   "cell_type": "code",
   "execution_count": 9,
   "id": "38b2bd30",
   "metadata": {},
   "outputs": [
    {
     "name": "stdout",
     "output_type": "stream",
     "text": [
      "[['electric', 'vehicle', 'include', 'battery', 'charge', 'lid', 'vehicle', 'side', 'charge', 'connector', 'contactor', 'contactor', 'welding', 'detector', 'dc', 'inlet', 'cover', 'lock', 'mechanism', 'lock', 'controller', 'battery', 'charge', 'power', 'supply', 'external', 'power', 'supply', 'vehicle', 'side', 'charge', 'connector', 'dispose', 'position', 'charge', 'lid', 'electric', 'vehicle', 'include', 'charge', 'inlet', 'charge', 'contactor', 'provide', 'power', 'line', 'connect', 'inlet', 'battery', 'contactor', 'welding', 'detector', 'configure', 'detect', 'welding', 'contactor', 'inlet', 'cover', 'cover', 'inlet', 'cover', 'cover', 'close', 'state', 'lock', 'mechanism', 'lock', 'dc', 'inlet', 'cover', 'close', 'state']]\n"
     ]
    }
   ],
   "source": [
    "# Remove Stop Words\n",
    "data_words_nostops = remove_stopwords(data_words)\n",
    "\n",
    "# Form Bigrams\n",
    "data_words_bigrams = bigrams(data_words_nostops)\n",
    "\n",
    "# Initialize spacy 'en' model, keeping only tagger component (for efficiency)\n",
    "# python3 -m spacy download en\n",
    "nlp = spacy.load('en_core_web_sm', disable=['parser', 'ner'])\n",
    "\n",
    "# lemmatization to keep noun, adj, vb, adv\n",
    "data_processed = lemmatization(data_words_bigrams, allowed_postags=['NOUN', 'ADJ', 'VERB', 'ADV'])\n",
    "\n",
    "print(data_processed[:1])"
   ]
  },
  {
   "cell_type": "code",
   "execution_count": 10,
   "id": "94285d7f",
   "metadata": {},
   "outputs": [],
   "source": [
    "#Dictionary\n",
    "id2word = corpora.Dictionary(data_processed)\n",
    "\n",
    "#Corpus: Term Document Frequency\n",
    "corpus = [id2word.doc2bow(text) for text in data_processed]\n"
   ]
  },
  {
   "cell_type": "code",
   "execution_count": 11,
   "id": "672db633",
   "metadata": {},
   "outputs": [],
   "source": [
    "def calculate_coherence_score(id2word, corpus, texts, topic_limit, start, step):\n",
    "    coherence_score_list=[]\n",
    "    for number_topic in range(start, topic_limit, step):\n",
    "        model = gensim.models.ldamodel.LdaModel(corpus=corpus,\n",
    "                                           id2word=id2word,\n",
    "                                           num_topics=number_topic, \n",
    "                                           random_state=100,\n",
    "                                           update_every=1,\n",
    "                                           chunksize=10,\n",
    "                                           passes=10,\n",
    "                                           alpha='symmetric',\n",
    "                                           iterations=100,\n",
    "                                           per_word_topics=True)\n",
    "        coherence_score=CoherenceModel(model=model, texts=texts, dictionary=id2word, coherence='c_v')\n",
    "        coherence_score_list.append(coherence_score.get_coherence())\n",
    "    return coherence_score_list\n",
    "\n",
    "coherence_score_list = calculate_coherence_score(id2word, corpus, data_processed, topic_limit=10, start=1, step=1)"
   ]
  },
  {
   "cell_type": "code",
   "execution_count": 12,
   "id": "c6b2c953",
   "metadata": {},
   "outputs": [
    {
     "name": "stdout",
     "output_type": "stream",
     "text": [
      "Number of Topic: 1  with Coherence score: 0.2663214709723226\n",
      "Number of Topic: 2  with Coherence score: 0.4383449201216673\n",
      "Number of Topic: 3  with Coherence score: 0.5089643462897772\n",
      "Number of Topic: 4  with Coherence score: 0.4632273327029416\n",
      "Number of Topic: 5  with Coherence score: 0.5051539997416288\n",
      "Number of Topic: 6  with Coherence score: 0.4478200983677685\n",
      "Number of Topic: 7  with Coherence score: 0.43793285342192023\n",
      "Number of Topic: 8  with Coherence score: 0.48876593074429164\n",
      "Number of Topic: 9  with Coherence score: 0.4277387735522585\n"
     ]
    }
   ],
   "source": [
    "for i in range(len(coherence_score_list)):\n",
    "    print('Number of Topic:', i+1,' with Coherence score:',coherence_score_list[i])\n",
    "#Number of Topic: 4  should be used since its coherence score is the highest"
   ]
  },
  {
   "cell_type": "code",
   "execution_count": 13,
   "id": "2dbba121",
   "metadata": {},
   "outputs": [],
   "source": [
    "optimal_lda_model = gensim.models.ldamodel.LdaModel(corpus=corpus,\n",
    "                                           id2word=id2word,\n",
    "                                           num_topics=5, \n",
    "                                           random_state=100,\n",
    "                                           update_every=1,\n",
    "                                           chunksize=10,\n",
    "                                           passes=10,\n",
    "                                           alpha='symmetric',\n",
    "                                           iterations=100,\n",
    "                                           per_word_topics=True)"
   ]
  },
  {
   "cell_type": "markdown",
   "id": "b56b3ed4",
   "metadata": {},
   "source": [
    "## The keywords for each topic and The weightage of each keyword"
   ]
  },
  {
   "cell_type": "code",
   "execution_count": 14,
   "id": "cb6659a5",
   "metadata": {},
   "outputs": [
    {
     "name": "stdout",
     "output_type": "stream",
     "text": [
      "[(0,\n",
      "  '0.061*\"vehicle\" + 0.049*\"first\" + 0.037*\"second\" + 0.030*\"unit\" + '\n",
      "  '0.028*\"drive\" + 0.028*\"control\" + 0.026*\"electric\" + 0.021*\"motor\" + '\n",
      "  '0.020*\"energy\" + 0.018*\"include\"'),\n",
      " (1,\n",
      "  '0.097*\"power\" + 0.062*\"charge\" + 0.051*\"battery\" + 0.038*\"current\" + '\n",
      "  '0.036*\"circuit\" + 0.034*\"voltage\" + 0.027*\"source\" + 0.027*\"value\" + '\n",
      "  '0.026*\"storage\" + 0.022*\"supply\"'),\n",
      " (2,\n",
      "  '0.044*\"device\" + 0.031*\"system\" + 0.025*\"vehicle\" + 0.021*\"signal\" + '\n",
      "  '0.019*\"include\" + 0.014*\"receive\" + 0.014*\"method\" + 0.014*\"least\" + '\n",
      "  '0.013*\"control\" + 0.013*\"display\"'),\n",
      " (3,\n",
      "  '0.035*\"user\" + 0.021*\"datum\" + 0.020*\"information\" + 0.018*\"system\" + '\n",
      "  '0.014*\"use\" + 0.013*\"network\" + 0.012*\"input\" + 0.012*\"set\" + '\n",
      "  '0.012*\"provide\" + 0.011*\"computer\"'),\n",
      " (4,\n",
      "  '0.022*\"battery\" + 0.019*\"include\" + 0.018*\"portion\" + 0.013*\"module\" + '\n",
      "  '0.013*\"cell\" + 0.013*\"position\" + 0.013*\"form\" + 0.013*\"element\" + '\n",
      "  '0.011*\"body\" + 0.011*\"cool\"')]\n"
     ]
    }
   ],
   "source": [
    "pprint(optimal_lda_model.print_topics())\n",
    "# 1:5 cul, 0:3, 2:1, 3:2, 4:4 "
   ]
  },
  {
   "cell_type": "code",
   "execution_count": 15,
   "id": "23923be2",
   "metadata": {},
   "outputs": [
    {
     "name": "stderr",
     "output_type": "stream",
     "text": [
      "/Users/claireyuen/opt/anaconda3/lib/python3.9/site-packages/pyLDAvis/_prepare.py:246: FutureWarning: In a future version of pandas all arguments of DataFrame.drop except for the argument 'labels' will be keyword-only.\n",
      "  default_term_info = default_term_info.sort_values(\n",
      "/Users/claireyuen/opt/anaconda3/lib/python3.9/site-packages/past/builtins/misc.py:45: DeprecationWarning: the imp module is deprecated in favour of importlib; see the module's documentation for alternative uses\n",
      "  from imp import reload\n",
      "/Users/claireyuen/opt/anaconda3/lib/python3.9/site-packages/past/builtins/misc.py:45: DeprecationWarning: the imp module is deprecated in favour of importlib; see the module's documentation for alternative uses\n",
      "  from imp import reload\n",
      "/Users/claireyuen/opt/anaconda3/lib/python3.9/site-packages/past/builtins/misc.py:45: DeprecationWarning: the imp module is deprecated in favour of importlib; see the module's documentation for alternative uses\n",
      "  from imp import reload\n",
      "/Users/claireyuen/opt/anaconda3/lib/python3.9/site-packages/past/builtins/misc.py:45: DeprecationWarning: the imp module is deprecated in favour of importlib; see the module's documentation for alternative uses\n",
      "  from imp import reload\n",
      "/Users/claireyuen/opt/anaconda3/lib/python3.9/site-packages/past/builtins/misc.py:45: DeprecationWarning: the imp module is deprecated in favour of importlib; see the module's documentation for alternative uses\n",
      "  from imp import reload\n",
      "/Users/claireyuen/opt/anaconda3/lib/python3.9/site-packages/past/builtins/misc.py:45: DeprecationWarning: the imp module is deprecated in favour of importlib; see the module's documentation for alternative uses\n",
      "  from imp import reload\n",
      "/Users/claireyuen/opt/anaconda3/lib/python3.9/site-packages/past/builtins/misc.py:45: DeprecationWarning: the imp module is deprecated in favour of importlib; see the module's documentation for alternative uses\n",
      "  from imp import reload\n",
      "/Users/claireyuen/opt/anaconda3/lib/python3.9/site-packages/past/builtins/misc.py:45: DeprecationWarning: the imp module is deprecated in favour of importlib; see the module's documentation for alternative uses\n",
      "  from imp import reload\n",
      "/Users/claireyuen/opt/anaconda3/lib/python3.9/site-packages/joblib/backports.py:36: DeprecationWarning: distutils Version classes are deprecated. Use packaging.version instead.\n",
      "  if LooseVersion(np.__version__) < '1.13':\n",
      "/Users/claireyuen/opt/anaconda3/lib/python3.9/site-packages/joblib/backports.py:36: DeprecationWarning: distutils Version classes are deprecated. Use packaging.version instead.\n",
      "  if LooseVersion(np.__version__) < '1.13':\n",
      "/Users/claireyuen/opt/anaconda3/lib/python3.9/site-packages/joblib/backports.py:36: DeprecationWarning: distutils Version classes are deprecated. Use packaging.version instead.\n",
      "  if LooseVersion(np.__version__) < '1.13':\n",
      "/Users/claireyuen/opt/anaconda3/lib/python3.9/site-packages/joblib/backports.py:36: DeprecationWarning: distutils Version classes are deprecated. Use packaging.version instead.\n",
      "  if LooseVersion(np.__version__) < '1.13':\n",
      "/Users/claireyuen/opt/anaconda3/lib/python3.9/site-packages/joblib/backports.py:36: DeprecationWarning: distutils Version classes are deprecated. Use packaging.version instead.\n",
      "  if LooseVersion(np.__version__) < '1.13':\n",
      "/Users/claireyuen/opt/anaconda3/lib/python3.9/site-packages/joblib/backports.py:36: DeprecationWarning: distutils Version classes are deprecated. Use packaging.version instead.\n",
      "  if LooseVersion(np.__version__) < '1.13':\n",
      "/Users/claireyuen/opt/anaconda3/lib/python3.9/site-packages/joblib/backports.py:36: DeprecationWarning: distutils Version classes are deprecated. Use packaging.version instead.\n",
      "  if LooseVersion(np.__version__) < '1.13':\n",
      "/Users/claireyuen/opt/anaconda3/lib/python3.9/site-packages/setuptools/_distutils/version.py:351: DeprecationWarning: distutils Version classes are deprecated. Use packaging.version instead.\n",
      "  other = LooseVersion(other)\n",
      "/Users/claireyuen/opt/anaconda3/lib/python3.9/site-packages/setuptools/_distutils/version.py:351: DeprecationWarning: distutils Version classes are deprecated. Use packaging.version instead.\n",
      "  other = LooseVersion(other)\n",
      "/Users/claireyuen/opt/anaconda3/lib/python3.9/site-packages/setuptools/_distutils/version.py:351: DeprecationWarning: distutils Version classes are deprecated. Use packaging.version instead.\n",
      "  other = LooseVersion(other)\n",
      "/Users/claireyuen/opt/anaconda3/lib/python3.9/site-packages/setuptools/_distutils/version.py:351: DeprecationWarning: distutils Version classes are deprecated. Use packaging.version instead.\n",
      "  other = LooseVersion(other)\n",
      "/Users/claireyuen/opt/anaconda3/lib/python3.9/site-packages/setuptools/_distutils/version.py:351: DeprecationWarning: distutils Version classes are deprecated. Use packaging.version instead.\n",
      "  other = LooseVersion(other)\n",
      "/Users/claireyuen/opt/anaconda3/lib/python3.9/site-packages/setuptools/_distutils/version.py:351: DeprecationWarning: distutils Version classes are deprecated. Use packaging.version instead.\n",
      "  other = LooseVersion(other)\n",
      "/Users/claireyuen/opt/anaconda3/lib/python3.9/site-packages/setuptools/_distutils/version.py:351: DeprecationWarning: distutils Version classes are deprecated. Use packaging.version instead.\n",
      "  other = LooseVersion(other)\n",
      "/Users/claireyuen/opt/anaconda3/lib/python3.9/site-packages/joblib/backports.py:36: DeprecationWarning: distutils Version classes are deprecated. Use packaging.version instead.\n",
      "  if LooseVersion(np.__version__) < '1.13':\n",
      "/Users/claireyuen/opt/anaconda3/lib/python3.9/site-packages/joblib/backports.py:36: DeprecationWarning: distutils Version classes are deprecated. Use packaging.version instead.\n",
      "  if LooseVersion(np.__version__) < '1.13':\n",
      "/Users/claireyuen/opt/anaconda3/lib/python3.9/site-packages/setuptools/_distutils/version.py:351: DeprecationWarning: distutils Version classes are deprecated. Use packaging.version instead.\n",
      "  other = LooseVersion(other)\n",
      "/Users/claireyuen/opt/anaconda3/lib/python3.9/site-packages/setuptools/_distutils/version.py:351: DeprecationWarning: distutils Version classes are deprecated. Use packaging.version instead.\n",
      "  other = LooseVersion(other)\n",
      "/Users/claireyuen/opt/anaconda3/lib/python3.9/site-packages/joblib/backports.py:36: DeprecationWarning: distutils Version classes are deprecated. Use packaging.version instead.\n",
      "  if LooseVersion(np.__version__) < '1.13':\n",
      "/Users/claireyuen/opt/anaconda3/lib/python3.9/site-packages/setuptools/_distutils/version.py:351: DeprecationWarning: distutils Version classes are deprecated. Use packaging.version instead.\n",
      "  other = LooseVersion(other)\n",
      "/Users/claireyuen/opt/anaconda3/lib/python3.9/site-packages/joblib/backports.py:36: DeprecationWarning: distutils Version classes are deprecated. Use packaging.version instead.\n",
      "  if LooseVersion(np.__version__) < '1.13':\n",
      "/Users/claireyuen/opt/anaconda3/lib/python3.9/site-packages/setuptools/_distutils/version.py:351: DeprecationWarning: distutils Version classes are deprecated. Use packaging.version instead.\n",
      "  other = LooseVersion(other)\n",
      "/Users/claireyuen/opt/anaconda3/lib/python3.9/site-packages/joblib/backports.py:36: DeprecationWarning: distutils Version classes are deprecated. Use packaging.version instead.\n",
      "  if LooseVersion(np.__version__) < '1.13':\n",
      "/Users/claireyuen/opt/anaconda3/lib/python3.9/site-packages/setuptools/_distutils/version.py:351: DeprecationWarning: distutils Version classes are deprecated. Use packaging.version instead.\n",
      "  other = LooseVersion(other)\n",
      "/Users/claireyuen/opt/anaconda3/lib/python3.9/site-packages/joblib/backports.py:36: DeprecationWarning: distutils Version classes are deprecated. Use packaging.version instead.\n",
      "  if LooseVersion(np.__version__) < '1.13':\n",
      "/Users/claireyuen/opt/anaconda3/lib/python3.9/site-packages/joblib/backports.py:36: DeprecationWarning: distutils Version classes are deprecated. Use packaging.version instead.\n",
      "  if LooseVersion(np.__version__) < '1.13':\n",
      "/Users/claireyuen/opt/anaconda3/lib/python3.9/site-packages/joblib/backports.py:36: DeprecationWarning: distutils Version classes are deprecated. Use packaging.version instead.\n",
      "  if LooseVersion(np.__version__) < '1.13':\n",
      "/Users/claireyuen/opt/anaconda3/lib/python3.9/site-packages/setuptools/_distutils/version.py:351: DeprecationWarning: distutils Version classes are deprecated. Use packaging.version instead.\n",
      "  other = LooseVersion(other)\n",
      "/Users/claireyuen/opt/anaconda3/lib/python3.9/site-packages/setuptools/_distutils/version.py:351: DeprecationWarning: distutils Version classes are deprecated. Use packaging.version instead.\n",
      "  other = LooseVersion(other)\n",
      "/Users/claireyuen/opt/anaconda3/lib/python3.9/site-packages/setuptools/_distutils/version.py:351: DeprecationWarning: distutils Version classes are deprecated. Use packaging.version instead.\n",
      "  other = LooseVersion(other)\n",
      "/Users/claireyuen/opt/anaconda3/lib/python3.9/site-packages/joblib/backports.py:36: DeprecationWarning: distutils Version classes are deprecated. Use packaging.version instead.\n",
      "  if LooseVersion(np.__version__) < '1.13':\n",
      "/Users/claireyuen/opt/anaconda3/lib/python3.9/site-packages/setuptools/_distutils/version.py:351: DeprecationWarning: distutils Version classes are deprecated. Use packaging.version instead.\n",
      "  other = LooseVersion(other)\n"
     ]
    },
    {
     "name": "stderr",
     "output_type": "stream",
     "text": [
      "/Users/claireyuen/opt/anaconda3/lib/python3.9/site-packages/joblib/backports.py:36: DeprecationWarning: distutils Version classes are deprecated. Use packaging.version instead.\n",
      "  if LooseVersion(np.__version__) < '1.13':\n",
      "/Users/claireyuen/opt/anaconda3/lib/python3.9/site-packages/setuptools/_distutils/version.py:351: DeprecationWarning: distutils Version classes are deprecated. Use packaging.version instead.\n",
      "  other = LooseVersion(other)\n",
      "/Users/claireyuen/opt/anaconda3/lib/python3.9/site-packages/joblib/backports.py:36: DeprecationWarning: distutils Version classes are deprecated. Use packaging.version instead.\n",
      "  if LooseVersion(np.__version__) < '1.13':\n",
      "/Users/claireyuen/opt/anaconda3/lib/python3.9/site-packages/setuptools/_distutils/version.py:351: DeprecationWarning: distutils Version classes are deprecated. Use packaging.version instead.\n",
      "  other = LooseVersion(other)\n",
      "/Users/claireyuen/opt/anaconda3/lib/python3.9/site-packages/joblib/backports.py:36: DeprecationWarning: distutils Version classes are deprecated. Use packaging.version instead.\n",
      "  if LooseVersion(np.__version__) < '1.13':\n",
      "/Users/claireyuen/opt/anaconda3/lib/python3.9/site-packages/setuptools/_distutils/version.py:351: DeprecationWarning: distutils Version classes are deprecated. Use packaging.version instead.\n",
      "  other = LooseVersion(other)\n",
      "/Users/claireyuen/opt/anaconda3/lib/python3.9/site-packages/joblib/backports.py:36: DeprecationWarning: distutils Version classes are deprecated. Use packaging.version instead.\n",
      "  if LooseVersion(np.__version__) < '1.13':\n",
      "/Users/claireyuen/opt/anaconda3/lib/python3.9/site-packages/setuptools/_distutils/version.py:351: DeprecationWarning: distutils Version classes are deprecated. Use packaging.version instead.\n",
      "  other = LooseVersion(other)\n",
      "/Users/claireyuen/opt/anaconda3/lib/python3.9/site-packages/joblib/backports.py:36: DeprecationWarning: distutils Version classes are deprecated. Use packaging.version instead.\n",
      "  if LooseVersion(np.__version__) < '1.13':\n",
      "/Users/claireyuen/opt/anaconda3/lib/python3.9/site-packages/setuptools/_distutils/version.py:351: DeprecationWarning: distutils Version classes are deprecated. Use packaging.version instead.\n",
      "  other = LooseVersion(other)\n",
      "/Users/claireyuen/opt/anaconda3/lib/python3.9/site-packages/joblib/backports.py:36: DeprecationWarning: distutils Version classes are deprecated. Use packaging.version instead.\n",
      "  if LooseVersion(np.__version__) < '1.13':\n",
      "/Users/claireyuen/opt/anaconda3/lib/python3.9/site-packages/setuptools/_distutils/version.py:351: DeprecationWarning: distutils Version classes are deprecated. Use packaging.version instead.\n",
      "  other = LooseVersion(other)\n"
     ]
    },
    {
     "data": {
      "text/html": [
       "\n",
       "<link rel=\"stylesheet\" type=\"text/css\" href=\"https://cdn.jsdelivr.net/gh/bmabey/pyLDAvis@3.3.1/pyLDAvis/js/ldavis.v1.0.0.css\">\n",
       "\n",
       "\n",
       "<div id=\"ldavis_el2128140509362027760573801543\"></div>\n",
       "<script type=\"text/javascript\">\n",
       "\n",
       "var ldavis_el2128140509362027760573801543_data = {\"mdsDat\": {\"x\": [0.31773285545527274, 0.1805958148109849, -0.270944019163613, -0.30267338363123225, 0.07528873252858762], \"y\": [0.0036328700066921684, 0.3134941348719852, -0.15612044125490784, 0.26909090812950404, -0.43009747175327356], \"topics\": [1, 2, 3, 4, 5], \"cluster\": [1, 1, 1, 1, 1], \"Freq\": [33.282048926290784, 24.124726973053665, 17.86448016160531, 15.299318674970468, 9.429425264079782]}, \"tinfo\": {\"Term\": [\"power\", \"vehicle\", \"first\", \"charge\", \"battery\", \"device\", \"user\", \"second\", \"unit\", \"drive\", \"signal\", \"display\", \"transmit\", \"time\", \"wireless\", \"electronic\", \"mobile\", \"embodiment\", \"command\", \"processor\", \"device\", \"location\", \"system\", \"communication\", \"least\", \"receive\", \"vehicle\", \"method\", \"include\", \"control\", \"user\", \"network\", \"set\", \"application\", \"message\", \"speech\", \"text\", \"station\", \"access\", \"request\", \"perform\", \"computer\", \"datum\", \"information\", \"input\", \"system\", \"use\", \"provide\", \"first\", \"second\", \"unit\", \"drive\", \"electric\", \"motor\", \"energy\", \"engine\", \"wheel\", \"controller\", \"vehicle\", \"control\", \"include\", \"portion\", \"cell\", \"element\", \"body\", \"cool\", \"side\", \"housing\", \"surface\", \"support\", \"member\", \"form\", \"battery\", \"position\", \"include\", \"module\", \"charge\", \"current\", \"circuit\", \"voltage\", \"value\", \"storage\", \"switch\", \"terminal\", \"flow\", \"converter\", \"power\", \"supply\", \"source\", \"battery\"], \"Freq\": [21976.0, 38291.0, 17521.0, 11686.0, 16124.0, 32312.0, 17040.0, 13231.0, 10630.0, 10125.0, 13622.938266480656, 8585.707998481856, 6976.801717733024, 6332.485245764796, 5791.566483716815, 5643.848756532213, 4791.117217887217, 4819.7892022703445, 4376.109225868474, 3838.529304406815, 29543.392097574986, 5808.775115420241, 20763.675820394434, 7521.588588430639, 9031.140247887732, 9600.841052397427, 16453.941199622495, 9190.987240957864, 12655.71572006736, 8704.032799038208, 17040.007053625734, 6392.8970035742, 5795.994954357373, 4971.526323820039, 4869.212231098323, 4688.583287999233, 4257.8769331988715, 3904.3846941229067, 3656.74337493233, 3651.790741266719, 3746.9453528345225, 5212.398976440334, 10187.845995188816, 9490.375521602615, 5956.387590025156, 8845.7519640878, 6638.856520327765, 5741.196206277144, 17520.711970002376, 13230.938997088258, 10629.36514988448, 10125.052216929409, 9323.00760545837, 7404.845552487489, 7200.902751164416, 5903.175437534434, 5353.807018022654, 5399.849850242281, 21605.80337472093, 10002.397667004472, 6443.908979917555, 5576.903254378782, 4032.9583567200852, 3822.116022893451, 3466.1577888519437, 3365.7989730569507, 3357.479959251874, 3193.867761166244, 2877.2222605440274, 2838.423976370942, 2793.072859396051, 3836.0374174123162, 6589.0397965988095, 3854.22703531807, 5774.530211326094, 4075.405535601892, 11685.203013969749, 7153.103470113881, 6751.518598970841, 6456.130932071686, 5000.615343640749, 4815.162457523924, 3675.390454108012, 3653.2922255191684, 2567.370683922565, 1973.4088804376097, 18179.677389191074, 4217.889808680111, 5036.387188384671, 9535.21991864115], \"Total\": [21976.0, 38291.0, 17521.0, 11686.0, 16124.0, 32312.0, 17040.0, 13231.0, 10630.0, 10125.0, 13623.794358265119, 8586.554678706216, 6977.669704329389, 6333.344687062749, 5792.4168493544, 5644.704872937377, 4791.963151502687, 4820.653800413941, 4376.963399900289, 3839.3810002954497, 32312.718764577316, 6080.133015869481, 36674.2348153608, 9071.979328870957, 12321.904896253298, 14404.408995076996, 38291.830485754224, 14175.525594343822, 29744.30257371684, 18707.06790166039, 17040.84935818366, 6393.752763299904, 5796.909742764944, 4972.380280839672, 4870.052480988627, 4689.424496558817, 4258.714903089699, 3905.2634043020726, 3657.594571104695, 3652.6456673421253, 3747.8943561443093, 5520.820492186341, 16781.78725225363, 16572.181165366124, 8210.269244659958, 36674.2348153608, 15838.32095983783, 20329.82092690318, 17521.560607616546, 13231.78493521075, 10630.216328588784, 10125.89060486624, 9323.856342074185, 7405.682849211807, 7201.747558107203, 5904.022101444536, 5354.645644870991, 5400.708901411747, 38291.830485754224, 18707.06790166039, 29744.30257371684, 5577.7590851492405, 4033.812262834024, 3822.9877817195365, 3467.010780579267, 3366.6492931071075, 3358.329288678804, 3194.7239083020713, 2878.0698239216636, 2839.272345291529, 2793.9199759511635, 4679.313704313638, 16124.885325102436, 6161.200892046257, 29744.30257371684, 8258.494672312536, 11686.03208673687, 7153.941254192354, 6752.352481310215, 6456.958267485885, 5001.462547709881, 4816.009494906919, 3676.2349460528417, 3654.1458613246355, 2568.2306112565784, 1974.2431999226035, 21976.611637270722, 4813.749024979882, 6061.563744519178, 16124.885325102436], \"Category\": [\"Default\", \"Default\", \"Default\", \"Default\", \"Default\", \"Default\", \"Default\", \"Default\", \"Default\", \"Default\", \"Topic1\", \"Topic1\", \"Topic1\", \"Topic1\", \"Topic1\", \"Topic1\", \"Topic1\", \"Topic1\", \"Topic1\", \"Topic1\", \"Topic1\", \"Topic1\", \"Topic1\", \"Topic1\", \"Topic1\", \"Topic1\", \"Topic1\", \"Topic1\", \"Topic1\", \"Topic1\", \"Topic2\", \"Topic2\", \"Topic2\", \"Topic2\", \"Topic2\", \"Topic2\", \"Topic2\", \"Topic2\", \"Topic2\", \"Topic2\", \"Topic2\", \"Topic2\", \"Topic2\", \"Topic2\", \"Topic2\", \"Topic2\", \"Topic2\", \"Topic2\", \"Topic3\", \"Topic3\", \"Topic3\", \"Topic3\", \"Topic3\", \"Topic3\", \"Topic3\", \"Topic3\", \"Topic3\", \"Topic3\", \"Topic3\", \"Topic3\", \"Topic3\", \"Topic4\", \"Topic4\", \"Topic4\", \"Topic4\", \"Topic4\", \"Topic4\", \"Topic4\", \"Topic4\", \"Topic4\", \"Topic4\", \"Topic4\", \"Topic4\", \"Topic4\", \"Topic4\", \"Topic4\", \"Topic5\", \"Topic5\", \"Topic5\", \"Topic5\", \"Topic5\", \"Topic5\", \"Topic5\", \"Topic5\", \"Topic5\", \"Topic5\", \"Topic5\", \"Topic5\", \"Topic5\", \"Topic5\"], \"logprob\": [10.0, 9.0, 8.0, 7.0, 6.0, 5.0, 4.0, 3.0, 2.0, 1.0, -3.8864, -4.348, -4.5555, -4.6524, -4.7417, -4.7676, -4.9314, -4.9254, -5.022, -5.153, -3.1123, -4.7388, -3.4649, -4.4804, -4.2975, -4.2363, -3.6976, -4.2799, -3.96, -4.3343, -3.3408, -4.3212, -4.4192, -4.5726, -4.5934, -4.6312, -4.7276, -4.8142, -4.8798, -4.8811, -4.8554, -4.5253, -3.8552, -3.9261, -4.3919, -3.9964, -4.2834, -4.4287, -3.0125, -3.2934, -3.5123, -3.5609, -3.6434, -3.8738, -3.9017, -4.1004, -4.1981, -4.1896, -2.803, -3.5731, -4.0128, -4.0023, -4.3264, -4.3801, -4.4779, -4.5073, -4.5097, -4.5597, -4.6641, -4.6777, -4.6938, -4.3765, -3.8355, -4.3717, -3.9675, -4.3159, -2.7786, -3.2694, -3.3272, -3.3719, -3.6274, -3.6652, -3.9353, -3.9413, -4.2941, -4.5572, -2.3366, -3.7976, -3.6203, -2.982], \"loglift\": [10.0, 9.0, 8.0, 7.0, 6.0, 5.0, 4.0, 3.0, 2.0, 1.0, 1.1001, 1.1001, 1.1, 1.1, 1.1, 1.1, 1.1, 1.1, 1.1, 1.0999, 1.0106, 1.0545, 0.5313, 0.9127, 0.7895, 0.6945, 0.2555, 0.6669, 0.2456, 0.335, 1.4219, 1.4218, 1.4218, 1.4218, 1.4218, 1.4218, 1.4217, 1.4217, 1.4217, 1.4217, 1.4217, 1.3644, 0.9228, 0.8645, 1.101, -0.0002, 0.5524, 0.1575, 1.7223, 1.7223, 1.7223, 1.7223, 1.7223, 1.7222, 1.7222, 1.7222, 1.7222, 1.7222, 1.1501, 1.0963, 0.1929, 1.8772, 1.8772, 1.8771, 1.8771, 1.8771, 1.8771, 1.8771, 1.8771, 1.8771, 1.8771, 1.6787, 0.9824, 1.4083, 0.2382, 1.1711, 2.3613, 2.3612, 2.3612, 2.3612, 2.3612, 2.3612, 2.3611, 2.3611, 2.361, 2.3609, 2.1717, 2.2292, 2.1761, 1.836]}, \"token.table\": {\"Topic\": [2, 2, 4, 5, 4, 4, 5, 5, 1, 1, 2, 1, 2, 1, 3, 3, 5, 4, 5, 1, 2, 1, 3, 1, 3, 3, 1, 4, 1, 3, 3, 3, 5, 1, 4, 4, 1, 2, 3, 4, 1, 2, 2, 3, 1, 3, 1, 2, 4, 2, 1, 2, 1, 1, 4, 3, 2, 2, 4, 3, 4, 3, 5, 1, 1, 2, 3, 4, 1, 2, 3, 2, 3, 2, 4, 1, 3, 5, 2, 2, 5, 3, 5, 4, 4, 5, 1, 2, 3, 5, 5, 2, 1, 1, 3, 1, 2, 3, 2, 5, 1, 3, 4, 5, 3, 1], \"Freq\": [0.9998374420419933, 0.9999235213684002, 0.408623061011328, 0.591322034715892, 0.9997084576186124, 0.9997986364309743, 0.9999116820209624, 0.9999477987395963, 0.9997798930874517, 0.8291465100743503, 0.17085576849444867, 0.05578880900690662, 0.9440625731947966, 0.46527868748621243, 0.5346642270492988, 0.999868739192449, 0.9993702903863859, 0.9998071396660065, 0.9998684285823842, 0.39286637953979686, 0.6070867093510467, 0.9142839454409015, 0.0856938105448281, 0.9999354014820879, 0.9999120467620092, 0.9999081558056273, 0.999875126697809, 0.9997416204874471, 0.9998643751571862, 0.9998961976796366, 0.9998268804846977, 0.999968004698377, 0.9995208330392198, 0.1801546237908517, 0.819778335541764, 0.9997734050506868, 0.42549325097248397, 0.16372883472155475, 0.21664653202170406, 0.1941548296749443, 0.42728231904671926, 0.5726464069698299, 0.7254329696768279, 0.2744124379922588, 0.7329223911431131, 0.26700417084053174, 0.9554067295630196, 0.04457139330548775, 0.9996707221541482, 0.9997838871361785, 0.648371020801324, 0.3515919016074202, 0.9997990069054715, 0.5063876851577553, 0.4934313287943216, 0.9999077938894076, 0.9998822658104292, 0.9997613710368215, 0.9998639085809099, 0.3742776839133599, 0.6255274040772286, 0.17272908411241442, 0.8272430846058203, 0.9999007651766209, 0.3738842573837591, 0.28239304323643744, 0.1937055921033079, 0.15002591567168336, 0.6665320321910702, 0.25270040591349807, 0.0807391681531314, 0.999823232965656, 0.9999406780555614, 0.9998430641832781, 0.999604181554416, 0.9999416933165439, 0.1690982794541751, 0.8308087173963179, 0.9999094778988065, 0.9996764867894236, 0.9997903876834158, 0.1236042836700417, 0.8762401151600603, 0.9995518762778643, 0.9996282842366188, 0.9996640731425047, 0.566174048471302, 0.24120475981396347, 0.17480937318192627, 0.017832682898296644, 0.9996864215693294, 0.9998321317331713, 0.9997876813707147, 0.9999040217783635, 0.9998855781903975, 0.47732332354991036, 0.41917322024442527, 0.10348319144157449, 0.9999501575205668, 0.9999075175100346, 0.4297000114977896, 0.5642456818051077, 0.00605873360079538, 0.9998515915007984, 0.999879423417755, 0.9999280353321867], \"Term\": [\"access\", \"application\", \"battery\", \"battery\", \"body\", \"cell\", \"charge\", \"circuit\", \"command\", \"communication\", \"communication\", \"computer\", \"computer\", \"control\", \"control\", \"controller\", \"converter\", \"cool\", \"current\", \"datum\", \"datum\", \"device\", \"device\", \"display\", \"drive\", \"electric\", \"electronic\", \"element\", \"embodiment\", \"energy\", \"engine\", \"first\", \"flow\", \"form\", \"form\", \"housing\", \"include\", \"include\", \"include\", \"include\", \"information\", \"information\", \"input\", \"input\", \"least\", \"least\", \"location\", \"location\", \"member\", \"message\", \"method\", \"method\", \"mobile\", \"module\", \"module\", \"motor\", \"network\", \"perform\", \"portion\", \"position\", \"position\", \"power\", \"power\", \"processor\", \"provide\", \"provide\", \"provide\", \"provide\", \"receive\", \"receive\", \"receive\", \"request\", \"second\", \"set\", \"side\", \"signal\", \"source\", \"source\", \"speech\", \"station\", \"storage\", \"supply\", \"supply\", \"support\", \"surface\", \"switch\", \"system\", \"system\", \"system\", \"system\", \"terminal\", \"text\", \"time\", \"transmit\", \"unit\", \"use\", \"use\", \"use\", \"user\", \"value\", \"vehicle\", \"vehicle\", \"vehicle\", \"voltage\", \"wheel\", \"wireless\"]}, \"R\": 10, \"lambda.step\": 0.01, \"plot.opts\": {\"xlab\": \"PC1\", \"ylab\": \"PC2\"}, \"topic.order\": [3, 4, 1, 5, 2]};\n",
       "\n",
       "function LDAvis_load_lib(url, callback){\n",
       "  var s = document.createElement('script');\n",
       "  s.src = url;\n",
       "  s.async = true;\n",
       "  s.onreadystatechange = s.onload = callback;\n",
       "  s.onerror = function(){console.warn(\"failed to load library \" + url);};\n",
       "  document.getElementsByTagName(\"head\")[0].appendChild(s);\n",
       "}\n",
       "\n",
       "if(typeof(LDAvis) !== \"undefined\"){\n",
       "   // already loaded: just create the visualization\n",
       "   !function(LDAvis){\n",
       "       new LDAvis(\"#\" + \"ldavis_el2128140509362027760573801543\", ldavis_el2128140509362027760573801543_data);\n",
       "   }(LDAvis);\n",
       "}else if(typeof define === \"function\" && define.amd){\n",
       "   // require.js is available: use it to load d3/LDAvis\n",
       "   require.config({paths: {d3: \"https://d3js.org/d3.v5\"}});\n",
       "   require([\"d3\"], function(d3){\n",
       "      window.d3 = d3;\n",
       "      LDAvis_load_lib(\"https://cdn.jsdelivr.net/gh/bmabey/pyLDAvis@3.3.1/pyLDAvis/js/ldavis.v3.0.0.js\", function(){\n",
       "        new LDAvis(\"#\" + \"ldavis_el2128140509362027760573801543\", ldavis_el2128140509362027760573801543_data);\n",
       "      });\n",
       "    });\n",
       "}else{\n",
       "    // require.js not available: dynamically load d3 & LDAvis\n",
       "    LDAvis_load_lib(\"https://d3js.org/d3.v5.js\", function(){\n",
       "         LDAvis_load_lib(\"https://cdn.jsdelivr.net/gh/bmabey/pyLDAvis@3.3.1/pyLDAvis/js/ldavis.v3.0.0.js\", function(){\n",
       "                 new LDAvis(\"#\" + \"ldavis_el2128140509362027760573801543\", ldavis_el2128140509362027760573801543_data);\n",
       "            })\n",
       "         });\n",
       "}\n",
       "</script>"
      ],
      "text/plain": [
       "PreparedData(topic_coordinates=              x         y  topics  cluster       Freq\n",
       "topic                                                \n",
       "2      0.317733  0.003633       1        1  33.282049\n",
       "3      0.180596  0.313494       2        1  24.124727\n",
       "0     -0.270944 -0.156120       3        1  17.864480\n",
       "4     -0.302673  0.269091       4        1  15.299319\n",
       "1      0.075289 -0.430097       5        1   9.429425, topic_info=          Term          Freq         Total Category  logprob  loglift\n",
       "22       power  21976.000000  21976.000000  Default  10.0000  10.0000\n",
       "27     vehicle  38291.000000  38291.000000  Default   9.0000   9.0000\n",
       "299      first  17521.000000  17521.000000  Default   8.0000   8.0000\n",
       "1       charge  11686.000000  11686.000000  Default   7.0000   7.0000\n",
       "0      battery  16124.000000  16124.000000  Default   6.0000   6.0000\n",
       "..         ...           ...           ...      ...      ...      ...\n",
       "174  converter   1973.408880   1974.243200   Topic5  -4.5572   2.3609\n",
       "22       power  18179.677389  21976.611637   Topic5  -2.3366   2.1717\n",
       "26      supply   4217.889809   4813.749025   Topic5  -3.7976   2.2292\n",
       "178     source   5036.387188   6061.563745   Topic5  -3.6203   2.1761\n",
       "0      battery   9535.219919  16124.885325   Topic5  -2.9820   1.8360\n",
       "\n",
       "[90 rows x 6 columns], token_table=      Topic      Freq         Term\n",
       "term                              \n",
       "725       2  0.999837       access\n",
       "100       2  0.999924  application\n",
       "0         4  0.408623      battery\n",
       "0         5  0.591322      battery\n",
       "410       4  0.999708         body\n",
       "...     ...       ...          ...\n",
       "27        3  0.564246      vehicle\n",
       "27        4  0.006059      vehicle\n",
       "839       5  0.999852      voltage\n",
       "371       3  0.999879        wheel\n",
       "468       1  0.999928     wireless\n",
       "\n",
       "[106 rows x 3 columns], R=10, lambda_step=0.01, plot_opts={'xlab': 'PC1', 'ylab': 'PC2'}, topic_order=[3, 4, 1, 5, 2])"
      ]
     },
     "execution_count": 15,
     "metadata": {},
     "output_type": "execute_result"
    }
   ],
   "source": [
    "pyLDAvis.enable_notebook()\n",
    "vis = pyLDAvis.gensim_models.prepare(optimal_lda_model, corpus, id2word, mds=\"mmds\", R=10)\n",
    "vis"
   ]
  },
  {
   "cell_type": "code",
   "execution_count": 16,
   "id": "38874c08",
   "metadata": {
    "scrolled": false
   },
   "outputs": [
    {
     "name": "stderr",
     "output_type": "stream",
     "text": [
      "/var/folders/2c/tbg6zvgs1xqftmv1wbb0g1vw0000gn/T/ipykernel_2128/2967583247.py:12: FutureWarning: The frame.append method is deprecated and will be removed from pandas in a future version. Use pandas.concat instead.\n",
      "  sent_topics_df = sent_topics_df.append(pd.Series([int(topic_num), round(prop_topic,4), topic_keywords]), ignore_index=True)\n",
      "/var/folders/2c/tbg6zvgs1xqftmv1wbb0g1vw0000gn/T/ipykernel_2128/2967583247.py:12: FutureWarning: The frame.append method is deprecated and will be removed from pandas in a future version. Use pandas.concat instead.\n",
      "  sent_topics_df = sent_topics_df.append(pd.Series([int(topic_num), round(prop_topic,4), topic_keywords]), ignore_index=True)\n"
     ]
    }
   ],
   "source": [
    "def format_topics_sentences(ldamodel=None, corpus=corpus, texts=data_processed):\n",
    "\n",
    "    sent_topics_df = pd.DataFrame()\n",
    "\n",
    "    for i, row_list in enumerate(ldamodel[corpus]):\n",
    "        row = row_list[0] if ldamodel.per_word_topics else row_list            \n",
    "        row = sorted(row, key=lambda x: (x[1]), reverse=True)\n",
    "        for j, (topic_num, prop_topic) in enumerate(row):\n",
    "            if j == 0:  \n",
    "                wp = ldamodel.show_topic(topic_num)\n",
    "                topic_keywords = \", \".join([word for word, prop in wp])\n",
    "                sent_topics_df = sent_topics_df.append(pd.Series([int(topic_num), round(prop_topic,4), topic_keywords]), ignore_index=True)\n",
    "            else:\n",
    "                break\n",
    "    sent_topics_df.columns = ['Dominant_Topic', '%_Contribution', 'Topic_Keywords']\n",
    "\n",
    "    contents = pd.Series(texts)\n",
    "    sent_topics_df = pd.concat([sent_topics_df, contents], axis=1)\n",
    "    return(sent_topics_df)\n",
    "\n",
    "\n",
    "df_topic_sents_keywords = format_topics_sentences(ldamodel=optimal_lda_model, corpus=corpus, texts=data_processed)\n",
    "\n",
    "df_dominant_topic = df_topic_sents_keywords.reset_index()\n",
    "df_dominant_topic.columns = ['Document_No', 'Dominant_Topic', '%_Contribution', 'Keywords', 'Text']"
   ]
  },
  {
   "cell_type": "code",
   "execution_count": 37,
   "id": "1cd02af8",
   "metadata": {},
   "outputs": [
    {
     "data": {
      "application/vnd.jupyter.widget-view+json": {
       "model_id": "d68537f620034defb209da3b90abbdf0",
       "version_major": 2,
       "version_minor": 0
      },
      "text/plain": [
       "  0%|          | 0/800 [00:00<?, ?it/s]"
      ]
     },
     "metadata": {},
     "output_type": "display_data"
    },
    {
     "data": {
      "application/vnd.jupyter.widget-view+json": {
       "model_id": "735d45127a9348dfa00b96ea810a9d7e",
       "version_major": 2,
       "version_minor": 0
      },
      "text/plain": [
       "  0%|          | 0/34200 [00:00<?, ?it/s]"
      ]
     },
     "metadata": {},
     "output_type": "display_data"
    }
   ],
   "source": [
    "def extract_contributor(docs):\n",
    "    inventors, asignees=[], []\n",
    "    for index, patent in enumerate(tqdm(docs)):\n",
    "        i=[]\n",
    "        a=[]\n",
    "        for inventor in patent['inventor_name']:\n",
    "            i.append(inventor['inventor_name'])\n",
    "        inventors.append(i)\n",
    "        for asignee in patent['assignee_name_orig']:\n",
    "            a.append(asignee['assignee_name'])\n",
    "        asignees.append(a)\n",
    "    return inventors,asignees\n",
    "inventors_q, asignees_q = extract_contributor(queries)\n",
    "inventors, asignees = extract_contributor(docs)"
   ]
  },
  {
   "cell_type": "code",
   "execution_count": 40,
   "id": "1aad0273",
   "metadata": {},
   "outputs": [],
   "source": [
    "inventors_q.extend(inventors)"
   ]
  },
  {
   "cell_type": "code",
   "execution_count": 41,
   "id": "95b1c290",
   "metadata": {},
   "outputs": [],
   "source": [
    "asignees_q.extend(asignees)"
   ]
  },
  {
   "cell_type": "markdown",
   "id": "314599d4",
   "metadata": {},
   "source": [
    "## The dominant topic of each patent"
   ]
  },
  {
   "cell_type": "code",
   "execution_count": 72,
   "id": "700e79f1",
   "metadata": {
    "scrolled": false
   },
   "outputs": [
    {
     "data": {
      "text/html": [
       "<div>\n",
       "<style scoped>\n",
       "    .dataframe tbody tr th:only-of-type {\n",
       "        vertical-align: middle;\n",
       "    }\n",
       "\n",
       "    .dataframe tbody tr th {\n",
       "        vertical-align: top;\n",
       "    }\n",
       "\n",
       "    .dataframe thead th {\n",
       "        text-align: right;\n",
       "    }\n",
       "</style>\n",
       "<table border=\"1\" class=\"dataframe\">\n",
       "  <thead>\n",
       "    <tr style=\"text-align: right;\">\n",
       "      <th></th>\n",
       "      <th>Patent_id</th>\n",
       "      <th>Dominant_Topic</th>\n",
       "      <th>%_Contribution</th>\n",
       "      <th>Keywords</th>\n",
       "      <th>Text</th>\n",
       "    </tr>\n",
       "  </thead>\n",
       "  <tbody>\n",
       "    <tr>\n",
       "      <th>0</th>\n",
       "      <td>US9533588B2</td>\n",
       "      <td>4</td>\n",
       "      <td>0.5293</td>\n",
       "      <td>battery, include, portion, module, cell, posit...</td>\n",
       "      <td>[electric, vehicle, include, battery, charge, ...</td>\n",
       "    </tr>\n",
       "    <tr>\n",
       "      <th>1</th>\n",
       "      <td>US9987944B2</td>\n",
       "      <td>4</td>\n",
       "      <td>0.3137</td>\n",
       "      <td>battery, include, portion, module, cell, posit...</td>\n",
       "      <td>[vehicle, include, electric, machine, arrange,...</td>\n",
       "    </tr>\n",
       "    <tr>\n",
       "      <th>2</th>\n",
       "      <td>US10071639B2</td>\n",
       "      <td>0</td>\n",
       "      <td>0.4406</td>\n",
       "      <td>vehicle, first, second, unit, drive, control, ...</td>\n",
       "      <td>[charge, system, electric, vehicle, provide, i...</td>\n",
       "    </tr>\n",
       "    <tr>\n",
       "      <th>3</th>\n",
       "      <td>US9929440B2</td>\n",
       "      <td>2</td>\n",
       "      <td>0.3867</td>\n",
       "      <td>device, system, vehicle, signal, include, rece...</td>\n",
       "      <td>[vehicle, propulsion, system, comprise, plural...</td>\n",
       "    </tr>\n",
       "    <tr>\n",
       "      <th>4</th>\n",
       "      <td>US10486690B2</td>\n",
       "      <td>0</td>\n",
       "      <td>0.9143</td>\n",
       "      <td>vehicle, first, second, unit, drive, control, ...</td>\n",
       "      <td>[system, method, provide, hybrid, electric, in...</td>\n",
       "    </tr>\n",
       "  </tbody>\n",
       "</table>\n",
       "</div>"
      ],
      "text/plain": [
       "      Patent_id  Dominant_Topic  %_Contribution  \\\n",
       "0   US9533588B2               4          0.5293   \n",
       "1   US9987944B2               4          0.3137   \n",
       "2  US10071639B2               0          0.4406   \n",
       "3   US9929440B2               2          0.3867   \n",
       "4  US10486690B2               0          0.9143   \n",
       "\n",
       "                                            Keywords  \\\n",
       "0  battery, include, portion, module, cell, posit...   \n",
       "1  battery, include, portion, module, cell, posit...   \n",
       "2  vehicle, first, second, unit, drive, control, ...   \n",
       "3  device, system, vehicle, signal, include, rece...   \n",
       "4  vehicle, first, second, unit, drive, control, ...   \n",
       "\n",
       "                                                Text  \n",
       "0  [electric, vehicle, include, battery, charge, ...  \n",
       "1  [vehicle, include, electric, machine, arrange,...  \n",
       "2  [charge, system, electric, vehicle, provide, i...  \n",
       "3  [vehicle, propulsion, system, comprise, plural...  \n",
       "4  [system, method, provide, hybrid, electric, in...  "
      ]
     },
     "execution_count": 72,
     "metadata": {},
     "output_type": "execute_result"
    }
   ],
   "source": [
    "# df_dominant_topic_patent=df_dominant_topic.drop(['Document_No'], axis=1)\n",
    "# df_dominant_topic_patent.head(10)\n",
    "df_dominant_topic.head()"
   ]
  },
  {
   "cell_type": "code",
   "execution_count": 74,
   "id": "ff14560f",
   "metadata": {},
   "outputs": [],
   "source": [
    "df_dominant_topic_patent=df_dominant_topic"
   ]
  },
  {
   "cell_type": "markdown",
   "id": "bee85fd3",
   "metadata": {},
   "source": [
    "## The most representative patent of each topic"
   ]
  },
  {
   "cell_type": "code",
   "execution_count": 75,
   "id": "017c9aae",
   "metadata": {
    "scrolled": true
   },
   "outputs": [
    {
     "data": {
      "text/html": [
       "<div>\n",
       "<style scoped>\n",
       "    .dataframe tbody tr th:only-of-type {\n",
       "        vertical-align: middle;\n",
       "    }\n",
       "\n",
       "    .dataframe tbody tr th {\n",
       "        vertical-align: top;\n",
       "    }\n",
       "\n",
       "    .dataframe thead th {\n",
       "        text-align: right;\n",
       "    }\n",
       "</style>\n",
       "<table border=\"1\" class=\"dataframe\">\n",
       "  <thead>\n",
       "    <tr style=\"text-align: right;\">\n",
       "      <th></th>\n",
       "      <th>Patent_id</th>\n",
       "      <th>Dominant_Topic</th>\n",
       "      <th>%_Contribution</th>\n",
       "      <th>Keywords</th>\n",
       "      <th>Text</th>\n",
       "    </tr>\n",
       "  </thead>\n",
       "  <tbody>\n",
       "    <tr>\n",
       "      <th>0</th>\n",
       "      <td>US9435415B2</td>\n",
       "      <td>0</td>\n",
       "      <td>0.9603</td>\n",
       "      <td>vehicle, first, second, unit, drive, control, ...</td>\n",
       "      <td>[electric, motor, vehicle, comprise, first, ge...</td>\n",
       "    </tr>\n",
       "    <tr>\n",
       "      <th>1</th>\n",
       "      <td>DE102014200427A1</td>\n",
       "      <td>1</td>\n",
       "      <td>0.9850</td>\n",
       "      <td>power, charge, battery, current, circuit, volt...</td>\n",
       "      <td>[eine, mit_einer, achse, ersten, antriebseinhe...</td>\n",
       "    </tr>\n",
       "    <tr>\n",
       "      <th>2</th>\n",
       "      <td>US20150045983A1</td>\n",
       "      <td>2</td>\n",
       "      <td>0.9904</td>\n",
       "      <td>device, system, vehicle, signal, include, rece...</td>\n",
       "      <td>[certain, embodiment, disclosure, include, met...</td>\n",
       "    </tr>\n",
       "    <tr>\n",
       "      <th>3</th>\n",
       "      <td>US20060287865A1</td>\n",
       "      <td>3</td>\n",
       "      <td>0.9875</td>\n",
       "      <td>user, datum, information, system, use, network...</td>\n",
       "      <td>[establish, multimodal, application, voice, in...</td>\n",
       "    </tr>\n",
       "    <tr>\n",
       "      <th>4</th>\n",
       "      <td>US20170144706A1</td>\n",
       "      <td>4</td>\n",
       "      <td>0.9898</td>\n",
       "      <td>battery, include, portion, module, cell, posit...</td>\n",
       "      <td>[vehicle, frame, structure, include, elongate,...</td>\n",
       "    </tr>\n",
       "  </tbody>\n",
       "</table>\n",
       "</div>"
      ],
      "text/plain": [
       "          Patent_id  Dominant_Topic  %_Contribution  \\\n",
       "0       US9435415B2               0          0.9603   \n",
       "1  DE102014200427A1               1          0.9850   \n",
       "2   US20150045983A1               2          0.9904   \n",
       "3   US20060287865A1               3          0.9875   \n",
       "4   US20170144706A1               4          0.9898   \n",
       "\n",
       "                                            Keywords  \\\n",
       "0  vehicle, first, second, unit, drive, control, ...   \n",
       "1  power, charge, battery, current, circuit, volt...   \n",
       "2  device, system, vehicle, signal, include, rece...   \n",
       "3  user, datum, information, system, use, network...   \n",
       "4  battery, include, portion, module, cell, posit...   \n",
       "\n",
       "                                                Text  \n",
       "0  [electric, motor, vehicle, comprise, first, ge...  \n",
       "1  [eine, mit_einer, achse, ersten, antriebseinhe...  \n",
       "2  [certain, embodiment, disclosure, include, met...  \n",
       "3  [establish, multimodal, application, voice, in...  \n",
       "4  [vehicle, frame, structure, include, elongate,...  "
      ]
     },
     "execution_count": 75,
     "metadata": {},
     "output_type": "execute_result"
    }
   ],
   "source": [
    "df_represent_doc = df_dominant_topic_patent.loc[df_dominant_topic_patent.groupby('Dominant_Topic')['%_Contribution'].idxmax()].reset_index(drop=True)\n",
    "df_represent_doc"
   ]
  },
  {
   "cell_type": "code",
   "execution_count": 76,
   "id": "85d7b937",
   "metadata": {
    "scrolled": false
   },
   "outputs": [
    {
     "data": {
      "text/html": [
       "<div>\n",
       "<style scoped>\n",
       "    .dataframe tbody tr th:only-of-type {\n",
       "        vertical-align: middle;\n",
       "    }\n",
       "\n",
       "    .dataframe tbody tr th {\n",
       "        vertical-align: top;\n",
       "    }\n",
       "\n",
       "    .dataframe thead th {\n",
       "        text-align: right;\n",
       "    }\n",
       "</style>\n",
       "<table border=\"1\" class=\"dataframe\">\n",
       "  <thead>\n",
       "    <tr style=\"text-align: right;\">\n",
       "      <th></th>\n",
       "      <th>Number_doc</th>\n",
       "      <th>percentage</th>\n",
       "      <th>Keywords</th>\n",
       "    </tr>\n",
       "    <tr>\n",
       "      <th>Dominant_Topic</th>\n",
       "      <th></th>\n",
       "      <th></th>\n",
       "      <th></th>\n",
       "    </tr>\n",
       "  </thead>\n",
       "  <tbody>\n",
       "    <tr>\n",
       "      <th>0</th>\n",
       "      <td>5662</td>\n",
       "      <td>16.177143</td>\n",
       "      <td>vehicle, first, second, unit, drive, control, ...</td>\n",
       "    </tr>\n",
       "    <tr>\n",
       "      <th>1</th>\n",
       "      <td>5222</td>\n",
       "      <td>14.920000</td>\n",
       "      <td>power, charge, battery, current, circuit, volt...</td>\n",
       "    </tr>\n",
       "    <tr>\n",
       "      <th>2</th>\n",
       "      <td>11673</td>\n",
       "      <td>33.351429</td>\n",
       "      <td>device, system, vehicle, signal, include, rece...</td>\n",
       "    </tr>\n",
       "    <tr>\n",
       "      <th>3</th>\n",
       "      <td>7552</td>\n",
       "      <td>21.577143</td>\n",
       "      <td>user, datum, information, system, use, network...</td>\n",
       "    </tr>\n",
       "    <tr>\n",
       "      <th>4</th>\n",
       "      <td>4891</td>\n",
       "      <td>13.974286</td>\n",
       "      <td>battery, include, portion, module, cell, posit...</td>\n",
       "    </tr>\n",
       "  </tbody>\n",
       "</table>\n",
       "</div>"
      ],
      "text/plain": [
       "                Number_doc  percentage  \\\n",
       "Dominant_Topic                           \n",
       "0                     5662   16.177143   \n",
       "1                     5222   14.920000   \n",
       "2                    11673   33.351429   \n",
       "3                     7552   21.577143   \n",
       "4                     4891   13.974286   \n",
       "\n",
       "                                                         Keywords  \n",
       "Dominant_Topic                                                     \n",
       "0               vehicle, first, second, unit, drive, control, ...  \n",
       "1               power, charge, battery, current, circuit, volt...  \n",
       "2               device, system, vehicle, signal, include, rece...  \n",
       "3               user, datum, information, system, use, network...  \n",
       "4               battery, include, portion, module, cell, posit...  "
      ]
     },
     "execution_count": 76,
     "metadata": {},
     "output_type": "execute_result"
    }
   ],
   "source": [
    "df_doc_distribution = df_dominant_topic_patent.groupby(['Dominant_Topic'])['Patent_id'].count()\n",
    "df_doc_distribution = pd.DataFrame(df_doc_distribution)\n",
    "df_doc_distribution = df_doc_distribution.rename(columns={'Patent_id': \"Number_doc\"})\n",
    "df_doc_distribution['percentage'] = (df_doc_distribution['Number_doc'] / df_doc_distribution['Number_doc'].sum()) * 100\n",
    "extracted_col = df_represent_doc[\"Keywords\"]\n",
    "df_doc_distribution = df_doc_distribution.join(extracted_col)\n",
    "df_doc_distribution"
   ]
  },
  {
   "cell_type": "markdown",
   "id": "35537448",
   "metadata": {},
   "source": [
    "## Topic distribution"
   ]
  },
  {
   "cell_type": "code",
   "execution_count": 77,
   "id": "67ded1d1",
   "metadata": {
    "scrolled": false
   },
   "outputs": [
    {
     "data": {
      "text/plain": [
       "<AxesSubplot:title={'center':'Topic Distrubution'}, ylabel='percentage'>"
      ]
     },
     "execution_count": 77,
     "metadata": {},
     "output_type": "execute_result"
    },
    {
     "data": {
      "image/png": "[encoded data removed]",
      "text/plain": [
       "<Figure size 576x576 with 1 Axes>"
      ]
     },
     "metadata": {},
     "output_type": "display_data"
    }
   ],
   "source": [
    "# plot = df_doc_distribution.plot.pie(y='percentage', figsize=(8, 8))\n",
    "# plot\n",
    "\n",
    "df_doc_distribution.plot.pie(title=\"Topic Distrubution\",y='percentage',autopct='%1.1f%%', figsize=(8, 8))"
   ]
  },
  {
   "cell_type": "code",
   "execution_count": 78,
   "id": "f0012802",
   "metadata": {
    "scrolled": true
   },
   "outputs": [
    {
     "data": {
      "image/png": "[encoded data removed]",
      "text/plain": [
       "<Figure size 1296x1296 with 5 Axes>"
      ]
     },
     "metadata": {
      "needs_background": "light"
     },
     "output_type": "display_data"
    }
   ],
   "source": [
    "from matplotlib import pyplot as plt\n",
    "from wordcloud import WordCloud, STOPWORDS\n",
    "import matplotlib.colors as mcolors\n",
    "\n",
    "cols = [color for name, color in mcolors.TABLEAU_COLORS.items()]  # more colors: 'mcolors.XKCD_COLORS'\n",
    "\n",
    "cloud = WordCloud(stopwords=stop_words,\n",
    "                  background_color='white',\n",
    "                  width=2500,\n",
    "                  height=1800,\n",
    "                  max_words=10,\n",
    "                  colormap='tab10',\n",
    "                  color_func=lambda *args, **kwargs: cols[i],\n",
    "                  prefer_horizontal=1.0)\n",
    "\n",
    "topics = optimal_lda_model.show_topics(formatted=False)\n",
    "\n",
    "fig, axes = plt.subplots(1, 5, figsize=(18,18), sharex=True, sharey=True)\n",
    "\n",
    "for i, ax in enumerate(axes.flatten()):\n",
    "    fig.add_subplot(ax)\n",
    "    topic_words = dict(topics[i][1])\n",
    "    cloud.generate_from_frequencies(topic_words, max_font_size=300)\n",
    "    plt.gca().imshow(cloud)\n",
    "    plt.gca().set_title('Topic ' + str(i), fontdict=dict(size=16))\n",
    "    plt.gca().axis('off')\n",
    "\n",
    "\n",
    "plt.subplots_adjust(wspace=0, hspace=0)\n",
    "plt.axis('off')\n",
    "plt.margins(x=0, y=0)\n",
    "plt.tight_layout()\n",
    "plt.show()"
   ]
  },
  {
   "cell_type": "markdown",
   "id": "d1f19a4e",
   "metadata": {},
   "source": [
    "## Contributor Analysis"
   ]
  },
  {
   "cell_type": "code",
   "execution_count": 89,
   "id": "e0af716c",
   "metadata": {
    "scrolled": true
   },
   "outputs": [],
   "source": [
    "df_dominant_topic=df_dominant_topic.drop(['assignee_name'], axis=1)"
   ]
  },
  {
   "cell_type": "code",
   "execution_count": 92,
   "id": "3be672c4",
   "metadata": {
    "scrolled": false
   },
   "outputs": [
    {
     "data": {
      "text/html": [
       "<div>\n",
       "<style scoped>\n",
       "    .dataframe tbody tr th:only-of-type {\n",
       "        vertical-align: middle;\n",
       "    }\n",
       "\n",
       "    .dataframe tbody tr th {\n",
       "        vertical-align: top;\n",
       "    }\n",
       "\n",
       "    .dataframe thead th {\n",
       "        text-align: right;\n",
       "    }\n",
       "</style>\n",
       "<table border=\"1\" class=\"dataframe\">\n",
       "  <thead>\n",
       "    <tr style=\"text-align: right;\">\n",
       "      <th></th>\n",
       "      <th>Patent_id</th>\n",
       "      <th>inventor_name</th>\n",
       "      <th>Dominant_Topic</th>\n",
       "      <th>%_Contribution</th>\n",
       "      <th>Keywords</th>\n",
       "      <th>Text</th>\n",
       "    </tr>\n",
       "  </thead>\n",
       "  <tbody>\n",
       "    <tr>\n",
       "      <th>0</th>\n",
       "      <td>US9533588B2</td>\n",
       "      <td>[Hakaru SADANO, Hiroyuki Kanazawa]</td>\n",
       "      <td>4</td>\n",
       "      <td>0.5293</td>\n",
       "      <td>battery, include, portion, module, cell, posit...</td>\n",
       "      <td>[electric, vehicle, include, battery, charge, ...</td>\n",
       "    </tr>\n",
       "    <tr>\n",
       "      <th>1</th>\n",
       "      <td>US9987944B2</td>\n",
       "      <td>[Brock Dunlap, Bryan Michael Bolger, Angel Fer...</td>\n",
       "      <td>4</td>\n",
       "      <td>0.3137</td>\n",
       "      <td>battery, include, portion, module, cell, posit...</td>\n",
       "      <td>[vehicle, include, electric, machine, arrange,...</td>\n",
       "    </tr>\n",
       "    <tr>\n",
       "      <th>2</th>\n",
       "      <td>US10071639B2</td>\n",
       "      <td>[Jeong Bin Yim, Jae Hwa Jeon, Dae Woong Han, S...</td>\n",
       "      <td>0</td>\n",
       "      <td>0.4406</td>\n",
       "      <td>vehicle, first, second, unit, drive, control, ...</td>\n",
       "      <td>[charge, system, electric, vehicle, provide, i...</td>\n",
       "    </tr>\n",
       "    <tr>\n",
       "      <th>3</th>\n",
       "      <td>US9929440B2</td>\n",
       "      <td>[Ann Marie Sastry, Fabio Albano, Chia-Wei Wang...</td>\n",
       "      <td>2</td>\n",
       "      <td>0.3867</td>\n",
       "      <td>device, system, vehicle, signal, include, rece...</td>\n",
       "      <td>[vehicle, propulsion, system, comprise, plural...</td>\n",
       "    </tr>\n",
       "    <tr>\n",
       "      <th>4</th>\n",
       "      <td>US10486690B2</td>\n",
       "      <td>[David Colavincenzo, Fernando VENEGAS DIAZ]</td>\n",
       "      <td>0</td>\n",
       "      <td>0.9143</td>\n",
       "      <td>vehicle, first, second, unit, drive, control, ...</td>\n",
       "      <td>[system, method, provide, hybrid, electric, in...</td>\n",
       "    </tr>\n",
       "  </tbody>\n",
       "</table>\n",
       "</div>"
      ],
      "text/plain": [
       "      Patent_id                                      inventor_name  \\\n",
       "0   US9533588B2                 [Hakaru SADANO, Hiroyuki Kanazawa]   \n",
       "1   US9987944B2  [Brock Dunlap, Bryan Michael Bolger, Angel Fer...   \n",
       "2  US10071639B2  [Jeong Bin Yim, Jae Hwa Jeon, Dae Woong Han, S...   \n",
       "3   US9929440B2  [Ann Marie Sastry, Fabio Albano, Chia-Wei Wang...   \n",
       "4  US10486690B2        [David Colavincenzo, Fernando VENEGAS DIAZ]   \n",
       "\n",
       "   Dominant_Topic  %_Contribution  \\\n",
       "0               4          0.5293   \n",
       "1               4          0.3137   \n",
       "2               0          0.4406   \n",
       "3               2          0.3867   \n",
       "4               0          0.9143   \n",
       "\n",
       "                                            Keywords  \\\n",
       "0  battery, include, portion, module, cell, posit...   \n",
       "1  battery, include, portion, module, cell, posit...   \n",
       "2  vehicle, first, second, unit, drive, control, ...   \n",
       "3  device, system, vehicle, signal, include, rece...   \n",
       "4  vehicle, first, second, unit, drive, control, ...   \n",
       "\n",
       "                                                Text  \n",
       "0  [electric, vehicle, include, battery, charge, ...  \n",
       "1  [vehicle, include, electric, machine, arrange,...  \n",
       "2  [charge, system, electric, vehicle, provide, i...  \n",
       "3  [vehicle, propulsion, system, comprise, plural...  \n",
       "4  [system, method, provide, hybrid, electric, in...  "
      ]
     },
     "execution_count": 92,
     "metadata": {},
     "output_type": "execute_result"
    }
   ],
   "source": [
    "df_dominant_topic_inventor=df_dominant_topic\n",
    "df_dominant_topic_inventor.head()"
   ]
  },
  {
   "cell_type": "code",
   "execution_count": 120,
   "id": "51aeb889",
   "metadata": {
    "scrolled": false
   },
   "outputs": [
    {
     "data": {
      "text/html": [
       "<div>\n",
       "<style scoped>\n",
       "    .dataframe tbody tr th:only-of-type {\n",
       "        vertical-align: middle;\n",
       "    }\n",
       "\n",
       "    .dataframe tbody tr th {\n",
       "        vertical-align: top;\n",
       "    }\n",
       "\n",
       "    .dataframe thead th {\n",
       "        text-align: right;\n",
       "    }\n",
       "</style>\n",
       "<table border=\"1\" class=\"dataframe\">\n",
       "  <thead>\n",
       "    <tr style=\"text-align: right;\">\n",
       "      <th></th>\n",
       "      <th>Patent_id</th>\n",
       "      <th>inventor_name</th>\n",
       "      <th>Dominant_Topic</th>\n",
       "      <th>%_Contribution</th>\n",
       "      <th>Keywords</th>\n",
       "      <th>Text</th>\n",
       "    </tr>\n",
       "  </thead>\n",
       "  <tbody>\n",
       "    <tr>\n",
       "      <th>0</th>\n",
       "      <td>US9533588B2</td>\n",
       "      <td>Hakaru SADANO</td>\n",
       "      <td>4</td>\n",
       "      <td>0.5293</td>\n",
       "      <td>battery, include, portion, module, cell, posit...</td>\n",
       "      <td>[electric, vehicle, include, battery, charge, ...</td>\n",
       "    </tr>\n",
       "    <tr>\n",
       "      <th>0</th>\n",
       "      <td>US9533588B2</td>\n",
       "      <td>Hiroyuki Kanazawa</td>\n",
       "      <td>4</td>\n",
       "      <td>0.5293</td>\n",
       "      <td>battery, include, portion, module, cell, posit...</td>\n",
       "      <td>[electric, vehicle, include, battery, charge, ...</td>\n",
       "    </tr>\n",
       "    <tr>\n",
       "      <th>1</th>\n",
       "      <td>US9987944B2</td>\n",
       "      <td>Brock Dunlap</td>\n",
       "      <td>4</td>\n",
       "      <td>0.3137</td>\n",
       "      <td>battery, include, portion, module, cell, posit...</td>\n",
       "      <td>[vehicle, include, electric, machine, arrange,...</td>\n",
       "    </tr>\n",
       "    <tr>\n",
       "      <th>1</th>\n",
       "      <td>US9987944B2</td>\n",
       "      <td>Bryan Michael Bolger</td>\n",
       "      <td>4</td>\n",
       "      <td>0.3137</td>\n",
       "      <td>battery, include, portion, module, cell, posit...</td>\n",
       "      <td>[vehicle, include, electric, machine, arrange,...</td>\n",
       "    </tr>\n",
       "    <tr>\n",
       "      <th>1</th>\n",
       "      <td>US9987944B2</td>\n",
       "      <td>Angel Fernando Porras</td>\n",
       "      <td>4</td>\n",
       "      <td>0.3137</td>\n",
       "      <td>battery, include, portion, module, cell, posit...</td>\n",
       "      <td>[vehicle, include, electric, machine, arrange,...</td>\n",
       "    </tr>\n",
       "  </tbody>\n",
       "</table>\n",
       "</div>"
      ],
      "text/plain": [
       "     Patent_id          inventor_name  Dominant_Topic  %_Contribution  \\\n",
       "0  US9533588B2          Hakaru SADANO               4          0.5293   \n",
       "0  US9533588B2      Hiroyuki Kanazawa               4          0.5293   \n",
       "1  US9987944B2           Brock Dunlap               4          0.3137   \n",
       "1  US9987944B2   Bryan Michael Bolger               4          0.3137   \n",
       "1  US9987944B2  Angel Fernando Porras               4          0.3137   \n",
       "\n",
       "                                            Keywords  \\\n",
       "0  battery, include, portion, module, cell, posit...   \n",
       "0  battery, include, portion, module, cell, posit...   \n",
       "1  battery, include, portion, module, cell, posit...   \n",
       "1  battery, include, portion, module, cell, posit...   \n",
       "1  battery, include, portion, module, cell, posit...   \n",
       "\n",
       "                                                Text  \n",
       "0  [electric, vehicle, include, battery, charge, ...  \n",
       "0  [electric, vehicle, include, battery, charge, ...  \n",
       "1  [vehicle, include, electric, machine, arrange,...  \n",
       "1  [vehicle, include, electric, machine, arrange,...  \n",
       "1  [vehicle, include, electric, machine, arrange,...  "
      ]
     },
     "execution_count": 120,
     "metadata": {},
     "output_type": "execute_result"
    }
   ],
   "source": [
    "df_dominant_topic_inventor=df_dominant_topic_inventor.explode('inventor_name')\n",
    "df_dominant_topic_inventor.head()"
   ]
  },
  {
   "cell_type": "code",
   "execution_count": 141,
   "id": "69b61028",
   "metadata": {},
   "outputs": [
    {
     "data": {
      "text/html": [
       "<div>\n",
       "<style scoped>\n",
       "    .dataframe tbody tr th:only-of-type {\n",
       "        vertical-align: middle;\n",
       "    }\n",
       "\n",
       "    .dataframe tbody tr th {\n",
       "        vertical-align: top;\n",
       "    }\n",
       "\n",
       "    .dataframe thead th {\n",
       "        text-align: right;\n",
       "    }\n",
       "</style>\n",
       "<table border=\"1\" class=\"dataframe\">\n",
       "  <thead>\n",
       "    <tr style=\"text-align: right;\">\n",
       "      <th></th>\n",
       "      <th>Dominant_Topic</th>\n",
       "      <th>inventor_name</th>\n",
       "      <th>count</th>\n",
       "    </tr>\n",
       "  </thead>\n",
       "  <tbody>\n",
       "    <tr>\n",
       "      <th>6342</th>\n",
       "      <td>0</td>\n",
       "      <td>Robert Dean King</td>\n",
       "      <td>69</td>\n",
       "    </tr>\n",
       "    <tr>\n",
       "      <th>15475</th>\n",
       "      <td>1</td>\n",
       "      <td>Shinji Ichikawa</td>\n",
       "      <td>48</td>\n",
       "    </tr>\n",
       "    <tr>\n",
       "      <th>28029</th>\n",
       "      <td>2</td>\n",
       "      <td>Christopher P. Ricci</td>\n",
       "      <td>134</td>\n",
       "    </tr>\n",
       "    <tr>\n",
       "      <th>53297</th>\n",
       "      <td>3</td>\n",
       "      <td>Jerome R. Bellegarda</td>\n",
       "      <td>42</td>\n",
       "    </tr>\n",
       "    <tr>\n",
       "      <th>68465</th>\n",
       "      <td>4</td>\n",
       "      <td>Niall R. Lynam</td>\n",
       "      <td>78</td>\n",
       "    </tr>\n",
       "  </tbody>\n",
       "</table>\n",
       "</div>"
      ],
      "text/plain": [
       "       Dominant_Topic         inventor_name  count\n",
       "6342                0      Robert Dean King     69\n",
       "15475               1       Shinji Ichikawa     48\n",
       "28029               2  Christopher P. Ricci    134\n",
       "53297               3  Jerome R. Bellegarda     42\n",
       "68465               4        Niall R. Lynam     78"
      ]
     },
     "execution_count": 141,
     "metadata": {},
     "output_type": "execute_result"
    }
   ],
   "source": [
    "df_inventor_top = df_inventor_distribution.loc[df_inventor_distribution.groupby('Dominant_Topic')['Patent_id'].transform('max').eq(df_inventor_distribution['Patent_id'])]\n",
    "df_inventor_top.columns = df_inventor_top.columns.str.replace('Patent_id', 'count')\n",
    "df_inventor_top"
   ]
  },
  {
   "cell_type": "code",
   "execution_count": null,
   "id": "5c2f9b8b",
   "metadata": {},
   "outputs": [],
   "source": [
    "df_dominant_topic.drop(['Document_No'], axis=1)"
   ]
  },
  {
   "cell_type": "code",
   "execution_count": 127,
   "id": "f6cc7bb8",
   "metadata": {
    "scrolled": true
   },
   "outputs": [
    {
     "data": {
      "text/html": [
       "<div>\n",
       "<style scoped>\n",
       "    .dataframe tbody tr th:only-of-type {\n",
       "        vertical-align: middle;\n",
       "    }\n",
       "\n",
       "    .dataframe tbody tr th {\n",
       "        vertical-align: top;\n",
       "    }\n",
       "\n",
       "    .dataframe thead th {\n",
       "        text-align: right;\n",
       "    }\n",
       "</style>\n",
       "<table border=\"1\" class=\"dataframe\">\n",
       "  <thead>\n",
       "    <tr style=\"text-align: right;\">\n",
       "      <th></th>\n",
       "      <th>Patent_id</th>\n",
       "      <th>Dominant_Topic</th>\n",
       "      <th>%_Contribution</th>\n",
       "      <th>Keywords</th>\n",
       "      <th>Text</th>\n",
       "    </tr>\n",
       "  </thead>\n",
       "  <tbody>\n",
       "    <tr>\n",
       "      <th>0</th>\n",
       "      <td>US9533588B2</td>\n",
       "      <td>4</td>\n",
       "      <td>0.5293</td>\n",
       "      <td>battery, include, portion, module, cell, posit...</td>\n",
       "      <td>[electric, vehicle, include, battery, charge, ...</td>\n",
       "    </tr>\n",
       "    <tr>\n",
       "      <th>1</th>\n",
       "      <td>US9987944B2</td>\n",
       "      <td>4</td>\n",
       "      <td>0.3137</td>\n",
       "      <td>battery, include, portion, module, cell, posit...</td>\n",
       "      <td>[vehicle, include, electric, machine, arrange,...</td>\n",
       "    </tr>\n",
       "    <tr>\n",
       "      <th>2</th>\n",
       "      <td>US10071639B2</td>\n",
       "      <td>0</td>\n",
       "      <td>0.4406</td>\n",
       "      <td>vehicle, first, second, unit, drive, control, ...</td>\n",
       "      <td>[charge, system, electric, vehicle, provide, i...</td>\n",
       "    </tr>\n",
       "    <tr>\n",
       "      <th>3</th>\n",
       "      <td>US9929440B2</td>\n",
       "      <td>2</td>\n",
       "      <td>0.3867</td>\n",
       "      <td>device, system, vehicle, signal, include, rece...</td>\n",
       "      <td>[vehicle, propulsion, system, comprise, plural...</td>\n",
       "    </tr>\n",
       "    <tr>\n",
       "      <th>4</th>\n",
       "      <td>US10486690B2</td>\n",
       "      <td>0</td>\n",
       "      <td>0.9143</td>\n",
       "      <td>vehicle, first, second, unit, drive, control, ...</td>\n",
       "      <td>[system, method, provide, hybrid, electric, in...</td>\n",
       "    </tr>\n",
       "    <tr>\n",
       "      <th>...</th>\n",
       "      <td>...</td>\n",
       "      <td>...</td>\n",
       "      <td>...</td>\n",
       "      <td>...</td>\n",
       "      <td>...</td>\n",
       "    </tr>\n",
       "    <tr>\n",
       "      <th>34995</th>\n",
       "      <td>US20080218491A1</td>\n",
       "      <td>2</td>\n",
       "      <td>0.6320</td>\n",
       "      <td>device, system, vehicle, signal, include, rece...</td>\n",
       "      <td>[interface, electronic, apparatus, include, to...</td>\n",
       "    </tr>\n",
       "    <tr>\n",
       "      <th>34996</th>\n",
       "      <td>US20120195087A1</td>\n",
       "      <td>2</td>\n",
       "      <td>0.3748</td>\n",
       "      <td>device, system, vehicle, signal, include, rece...</td>\n",
       "      <td>[apparatus, include, inverter, include, high, ...</td>\n",
       "    </tr>\n",
       "    <tr>\n",
       "      <th>34997</th>\n",
       "      <td>US20120083948A1</td>\n",
       "      <td>1</td>\n",
       "      <td>0.3359</td>\n",
       "      <td>power, charge, battery, current, circuit, volt...</td>\n",
       "      <td>[vehicle, include, first, second, battery, pac...</td>\n",
       "    </tr>\n",
       "    <tr>\n",
       "      <th>34998</th>\n",
       "      <td>US6131019A</td>\n",
       "      <td>2</td>\n",
       "      <td>0.7330</td>\n",
       "      <td>device, system, vehicle, signal, include, rece...</td>\n",
       "      <td>[vehicle, communication, system, include, conn...</td>\n",
       "    </tr>\n",
       "    <tr>\n",
       "      <th>34999</th>\n",
       "      <td>JP2002524806A</td>\n",
       "      <td>1</td>\n",
       "      <td>0.8825</td>\n",
       "      <td>power, charge, battery, current, circuit, volt...</td>\n",
       "      <td>[発語, テータ定義ファイルは, ネットワーク, テータ定義ファイルは, 文法ファイルを含む...</td>\n",
       "    </tr>\n",
       "  </tbody>\n",
       "</table>\n",
       "<p>35000 rows × 5 columns</p>\n",
       "</div>"
      ],
      "text/plain": [
       "             Patent_id  Dominant_Topic  %_Contribution  \\\n",
       "0          US9533588B2               4          0.5293   \n",
       "1          US9987944B2               4          0.3137   \n",
       "2         US10071639B2               0          0.4406   \n",
       "3          US9929440B2               2          0.3867   \n",
       "4         US10486690B2               0          0.9143   \n",
       "...                ...             ...             ...   \n",
       "34995  US20080218491A1               2          0.6320   \n",
       "34996  US20120195087A1               2          0.3748   \n",
       "34997  US20120083948A1               1          0.3359   \n",
       "34998       US6131019A               2          0.7330   \n",
       "34999    JP2002524806A               1          0.8825   \n",
       "\n",
       "                                                Keywords  \\\n",
       "0      battery, include, portion, module, cell, posit...   \n",
       "1      battery, include, portion, module, cell, posit...   \n",
       "2      vehicle, first, second, unit, drive, control, ...   \n",
       "3      device, system, vehicle, signal, include, rece...   \n",
       "4      vehicle, first, second, unit, drive, control, ...   \n",
       "...                                                  ...   \n",
       "34995  device, system, vehicle, signal, include, rece...   \n",
       "34996  device, system, vehicle, signal, include, rece...   \n",
       "34997  power, charge, battery, current, circuit, volt...   \n",
       "34998  device, system, vehicle, signal, include, rece...   \n",
       "34999  power, charge, battery, current, circuit, volt...   \n",
       "\n",
       "                                                    Text  \n",
       "0      [electric, vehicle, include, battery, charge, ...  \n",
       "1      [vehicle, include, electric, machine, arrange,...  \n",
       "2      [charge, system, electric, vehicle, provide, i...  \n",
       "3      [vehicle, propulsion, system, comprise, plural...  \n",
       "4      [system, method, provide, hybrid, electric, in...  \n",
       "...                                                  ...  \n",
       "34995  [interface, electronic, apparatus, include, to...  \n",
       "34996  [apparatus, include, inverter, include, high, ...  \n",
       "34997  [vehicle, include, first, second, battery, pac...  \n",
       "34998  [vehicle, communication, system, include, conn...  \n",
       "34999  [発語, テータ定義ファイルは, ネットワーク, テータ定義ファイルは, 文法ファイルを含む...  \n",
       "\n",
       "[35000 rows x 5 columns]"
      ]
     },
     "execution_count": 127,
     "metadata": {},
     "output_type": "execute_result"
    }
   ],
   "source": [
    "df_dominant_topic_asignee=df_dominant_topic.drop(['inventor_name'], axis=1)\n",
    "df_dominant_topic_asignee"
   ]
  },
  {
   "cell_type": "code",
   "execution_count": 128,
   "id": "7d6f94c3",
   "metadata": {},
   "outputs": [],
   "source": [
    "df_dominant_topic_asignee.insert(1, 'assignee_name', asignees_q)"
   ]
  },
  {
   "cell_type": "code",
   "execution_count": 132,
   "id": "5577183e",
   "metadata": {
    "scrolled": true
   },
   "outputs": [
    {
     "data": {
      "text/html": [
       "<div>\n",
       "<style scoped>\n",
       "    .dataframe tbody tr th:only-of-type {\n",
       "        vertical-align: middle;\n",
       "    }\n",
       "\n",
       "    .dataframe tbody tr th {\n",
       "        vertical-align: top;\n",
       "    }\n",
       "\n",
       "    .dataframe thead th {\n",
       "        text-align: right;\n",
       "    }\n",
       "</style>\n",
       "<table border=\"1\" class=\"dataframe\">\n",
       "  <thead>\n",
       "    <tr style=\"text-align: right;\">\n",
       "      <th></th>\n",
       "      <th>Patent_id</th>\n",
       "      <th>assignee_name</th>\n",
       "      <th>Dominant_Topic</th>\n",
       "      <th>%_Contribution</th>\n",
       "      <th>Keywords</th>\n",
       "      <th>Text</th>\n",
       "    </tr>\n",
       "  </thead>\n",
       "  <tbody>\n",
       "    <tr>\n",
       "      <th>0</th>\n",
       "      <td>US9533588B2</td>\n",
       "      <td>Honda Motor Co Ltd</td>\n",
       "      <td>4</td>\n",
       "      <td>0.5293</td>\n",
       "      <td>battery, include, portion, module, cell, posit...</td>\n",
       "      <td>[electric, vehicle, include, battery, charge, ...</td>\n",
       "    </tr>\n",
       "    <tr>\n",
       "      <th>1</th>\n",
       "      <td>US9987944B2</td>\n",
       "      <td>Ford Global Technologies LLC</td>\n",
       "      <td>4</td>\n",
       "      <td>0.3137</td>\n",
       "      <td>battery, include, portion, module, cell, posit...</td>\n",
       "      <td>[vehicle, include, electric, machine, arrange,...</td>\n",
       "    </tr>\n",
       "    <tr>\n",
       "      <th>2</th>\n",
       "      <td>US10071639B2</td>\n",
       "      <td>Hyundai Motor Co</td>\n",
       "      <td>0</td>\n",
       "      <td>0.4406</td>\n",
       "      <td>vehicle, first, second, unit, drive, control, ...</td>\n",
       "      <td>[charge, system, electric, vehicle, provide, i...</td>\n",
       "    </tr>\n",
       "    <tr>\n",
       "      <th>3</th>\n",
       "      <td>US9929440B2</td>\n",
       "      <td>Sakti3 Inc</td>\n",
       "      <td>2</td>\n",
       "      <td>0.3867</td>\n",
       "      <td>device, system, vehicle, signal, include, rece...</td>\n",
       "      <td>[vehicle, propulsion, system, comprise, plural...</td>\n",
       "    </tr>\n",
       "    <tr>\n",
       "      <th>4</th>\n",
       "      <td>US10486690B2</td>\n",
       "      <td>Bendix Commercial Vehicle Systems LLC</td>\n",
       "      <td>0</td>\n",
       "      <td>0.9143</td>\n",
       "      <td>vehicle, first, second, unit, drive, control, ...</td>\n",
       "      <td>[system, method, provide, hybrid, electric, in...</td>\n",
       "    </tr>\n",
       "  </tbody>\n",
       "</table>\n",
       "</div>"
      ],
      "text/plain": [
       "      Patent_id                          assignee_name  Dominant_Topic  \\\n",
       "0   US9533588B2                     Honda Motor Co Ltd               4   \n",
       "1   US9987944B2           Ford Global Technologies LLC               4   \n",
       "2  US10071639B2                       Hyundai Motor Co               0   \n",
       "3   US9929440B2                             Sakti3 Inc               2   \n",
       "4  US10486690B2  Bendix Commercial Vehicle Systems LLC               0   \n",
       "\n",
       "   %_Contribution                                           Keywords  \\\n",
       "0          0.5293  battery, include, portion, module, cell, posit...   \n",
       "1          0.3137  battery, include, portion, module, cell, posit...   \n",
       "2          0.4406  vehicle, first, second, unit, drive, control, ...   \n",
       "3          0.3867  device, system, vehicle, signal, include, rece...   \n",
       "4          0.9143  vehicle, first, second, unit, drive, control, ...   \n",
       "\n",
       "                                                Text  \n",
       "0  [electric, vehicle, include, battery, charge, ...  \n",
       "1  [vehicle, include, electric, machine, arrange,...  \n",
       "2  [charge, system, electric, vehicle, provide, i...  \n",
       "3  [vehicle, propulsion, system, comprise, plural...  \n",
       "4  [system, method, provide, hybrid, electric, in...  "
      ]
     },
     "execution_count": 132,
     "metadata": {},
     "output_type": "execute_result"
    }
   ],
   "source": [
    "df_dominant_topic_asignee=df_dominant_topic_asignee.explode('assignee_name')\n",
    "df_dominant_topic_asignee.head()"
   ]
  },
  {
   "cell_type": "code",
   "execution_count": 137,
   "id": "705249dc",
   "metadata": {
    "scrolled": true
   },
   "outputs": [
    {
     "data": {
      "text/html": [
       "<div>\n",
       "<style scoped>\n",
       "    .dataframe tbody tr th:only-of-type {\n",
       "        vertical-align: middle;\n",
       "    }\n",
       "\n",
       "    .dataframe tbody tr th {\n",
       "        vertical-align: top;\n",
       "    }\n",
       "\n",
       "    .dataframe thead th {\n",
       "        text-align: right;\n",
       "    }\n",
       "</style>\n",
       "<table border=\"1\" class=\"dataframe\">\n",
       "  <thead>\n",
       "    <tr style=\"text-align: right;\">\n",
       "      <th></th>\n",
       "      <th>Dominant_Topic</th>\n",
       "      <th>assignee_name</th>\n",
       "      <th>Patent_id</th>\n",
       "    </tr>\n",
       "  </thead>\n",
       "  <tbody>\n",
       "    <tr>\n",
       "      <th>0</th>\n",
       "      <td>0</td>\n",
       "      <td>\"polymagnet Nw\" LLC</td>\n",
       "      <td>1</td>\n",
       "    </tr>\n",
       "    <tr>\n",
       "      <th>1</th>\n",
       "      <td>0</td>\n",
       "      <td>101070291 Saskatchewan Ltd.</td>\n",
       "      <td>1</td>\n",
       "    </tr>\n",
       "    <tr>\n",
       "      <th>2</th>\n",
       "      <td>0</td>\n",
       "      <td>814405 Ontario Ltd</td>\n",
       "      <td>1</td>\n",
       "    </tr>\n",
       "    <tr>\n",
       "      <th>3</th>\n",
       "      <td>0</td>\n",
       "      <td>8D Technologies ULC</td>\n",
       "      <td>1</td>\n",
       "    </tr>\n",
       "    <tr>\n",
       "      <th>4</th>\n",
       "      <td>0</td>\n",
       "      <td>A123 Systems Inc</td>\n",
       "      <td>4</td>\n",
       "    </tr>\n",
       "  </tbody>\n",
       "</table>\n",
       "</div>"
      ],
      "text/plain": [
       "   Dominant_Topic                assignee_name  Patent_id\n",
       "0               0          \"polymagnet Nw\" LLC          1\n",
       "1               0  101070291 Saskatchewan Ltd.          1\n",
       "2               0           814405 Ontario Ltd          1\n",
       "3               0          8D Technologies ULC          1\n",
       "4               0             A123 Systems Inc          4"
      ]
     },
     "execution_count": 137,
     "metadata": {},
     "output_type": "execute_result"
    }
   ],
   "source": [
    "df_asignee = df_dominant_topic_asignee.groupby(['Dominant_Topic','assignee_name'])['Patent_id'].agg('count').reset_index()\n",
    "df_asignee.head()"
   ]
  },
  {
   "cell_type": "code",
   "execution_count": 140,
   "id": "b2d76569",
   "metadata": {
    "scrolled": true
   },
   "outputs": [
    {
     "data": {
      "text/html": [
       "<div>\n",
       "<style scoped>\n",
       "    .dataframe tbody tr th:only-of-type {\n",
       "        vertical-align: middle;\n",
       "    }\n",
       "\n",
       "    .dataframe tbody tr th {\n",
       "        vertical-align: top;\n",
       "    }\n",
       "\n",
       "    .dataframe thead th {\n",
       "        text-align: right;\n",
       "    }\n",
       "</style>\n",
       "<table border=\"1\" class=\"dataframe\">\n",
       "  <thead>\n",
       "    <tr style=\"text-align: right;\">\n",
       "      <th></th>\n",
       "      <th>Dominant_Topic</th>\n",
       "      <th>assignee_name</th>\n",
       "      <th>count</th>\n",
       "    </tr>\n",
       "  </thead>\n",
       "  <tbody>\n",
       "    <tr>\n",
       "      <th>1805</th>\n",
       "      <td>0</td>\n",
       "      <td>Toyota Motor Corp</td>\n",
       "      <td>472</td>\n",
       "    </tr>\n",
       "    <tr>\n",
       "      <th>3537</th>\n",
       "      <td>1</td>\n",
       "      <td>Toyota Motor Corp</td>\n",
       "      <td>431</td>\n",
       "    </tr>\n",
       "    <tr>\n",
       "      <th>4449</th>\n",
       "      <td>2</td>\n",
       "      <td>Apple Inc</td>\n",
       "      <td>268</td>\n",
       "    </tr>\n",
       "    <tr>\n",
       "      <th>10118</th>\n",
       "      <td>3</td>\n",
       "      <td>International Business Machines Corp</td>\n",
       "      <td>418</td>\n",
       "    </tr>\n",
       "    <tr>\n",
       "      <th>12642</th>\n",
       "      <td>4</td>\n",
       "      <td>Ford Global Technologies LLC</td>\n",
       "      <td>144</td>\n",
       "    </tr>\n",
       "  </tbody>\n",
       "</table>\n",
       "</div>"
      ],
      "text/plain": [
       "       Dominant_Topic                         assignee_name  count\n",
       "1805                0                     Toyota Motor Corp    472\n",
       "3537                1                     Toyota Motor Corp    431\n",
       "4449                2                             Apple Inc    268\n",
       "10118               3  International Business Machines Corp    418\n",
       "12642               4          Ford Global Technologies LLC    144"
      ]
     },
     "execution_count": 140,
     "metadata": {},
     "output_type": "execute_result"
    }
   ],
   "source": [
    "df_asignee_top = df_asignee.loc[df_asignee.groupby('Dominant_Topic')['Patent_id'].transform('max').eq(df_asignee['Patent_id'])]\n",
    "df_asignee_top.columns = df_asignee_top.columns.str.replace('Patent_id', 'count')\n",
    "df_asignee_top"
   ]
  },
  {
   "cell_type": "code",
   "execution_count": null,
   "id": "9632b93d",
   "metadata": {},
   "outputs": [],
   "source": []
  }
 ],
 "metadata": {
  "kernelspec": {
   "display_name": "Python 3 (ipykernel)",
   "language": "python",
   "name": "python3"
  },
  "language_info": {
   "codemirror_mode": {
    "name": "ipython",
    "version": 3
   },
   "file_extension": ".py",
   "mimetype": "text/x-python",
   "name": "python",
   "nbconvert_exporter": "python",
   "pygments_lexer": "ipython3",
   "version": "3.9.12"
  }
 },
 "nbformat": 4,
 "nbformat_minor": 5
}
